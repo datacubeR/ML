{
 "cells": [
  {
   "cell_type": "code",
   "execution_count": 32,
   "metadata": {
    "tags": [
     "parameters"
    ]
   },
   "outputs": [
    {
     "name": "stdout",
     "output_type": "stream",
     "text": [
      "(999890, 21)\n"
     ]
    },
    {
     "data": {
      "text/html": [
       "<div>\n",
       "<style scoped>\n",
       "    .dataframe tbody tr th:only-of-type {\n",
       "        vertical-align: middle;\n",
       "    }\n",
       "\n",
       "    .dataframe tbody tr th {\n",
       "        vertical-align: top;\n",
       "    }\n",
       "\n",
       "    .dataframe thead th {\n",
       "        text-align: right;\n",
       "    }\n",
       "</style>\n",
       "<table border=\"1\" class=\"dataframe\">\n",
       "  <thead>\n",
       "    <tr style=\"text-align: right;\">\n",
       "      <th></th>\n",
       "      <th>date</th>\n",
       "      <th>fligth_number</th>\n",
       "      <th>origin</th>\n",
       "      <th>destination</th>\n",
       "      <th>distance</th>\n",
       "      <th>noshow</th>\n",
       "      <th>denied_boarding</th>\n",
       "      <th>pax_midlow</th>\n",
       "      <th>pax_high</th>\n",
       "      <th>pax_midhigh</th>\n",
       "      <th>...</th>\n",
       "      <th>pax_freqflyer</th>\n",
       "      <th>group_bookings</th>\n",
       "      <th>out_of_stock</th>\n",
       "      <th>dom_cnx</th>\n",
       "      <th>int_cnx</th>\n",
       "      <th>p2p</th>\n",
       "      <th>departure_time</th>\n",
       "      <th>capacity</th>\n",
       "      <th>revenues_usd</th>\n",
       "      <th>bookings</th>\n",
       "    </tr>\n",
       "    <tr>\n",
       "      <th>id</th>\n",
       "      <th></th>\n",
       "      <th></th>\n",
       "      <th></th>\n",
       "      <th></th>\n",
       "      <th></th>\n",
       "      <th></th>\n",
       "      <th></th>\n",
       "      <th></th>\n",
       "      <th></th>\n",
       "      <th></th>\n",
       "      <th></th>\n",
       "      <th></th>\n",
       "      <th></th>\n",
       "      <th></th>\n",
       "      <th></th>\n",
       "      <th></th>\n",
       "      <th></th>\n",
       "      <th></th>\n",
       "      <th></th>\n",
       "      <th></th>\n",
       "      <th></th>\n",
       "    </tr>\n",
       "  </thead>\n",
       "  <tbody>\n",
       "    <tr>\n",
       "      <th>1214729</th>\n",
       "      <td>2011-09-25</td>\n",
       "      <td>8985</td>\n",
       "      <td>PMC</td>\n",
       "      <td>SCL</td>\n",
       "      <td>917</td>\n",
       "      <td>1.0</td>\n",
       "      <td>0</td>\n",
       "      <td>13</td>\n",
       "      <td>2</td>\n",
       "      <td>0</td>\n",
       "      <td>...</td>\n",
       "      <td>24</td>\n",
       "      <td>16</td>\n",
       "      <td>0</td>\n",
       "      <td>66</td>\n",
       "      <td>17</td>\n",
       "      <td>14</td>\n",
       "      <td>12:08:00</td>\n",
       "      <td>218.0</td>\n",
       "      <td>16137.5</td>\n",
       "      <td>97</td>\n",
       "    </tr>\n",
       "    <tr>\n",
       "      <th>1315195</th>\n",
       "      <td>2011-12-12</td>\n",
       "      <td>8464</td>\n",
       "      <td>AKL</td>\n",
       "      <td>SYD</td>\n",
       "      <td>2160</td>\n",
       "      <td>8.0</td>\n",
       "      <td>0</td>\n",
       "      <td>29</td>\n",
       "      <td>1</td>\n",
       "      <td>1</td>\n",
       "      <td>...</td>\n",
       "      <td>7</td>\n",
       "      <td>0</td>\n",
       "      <td>0</td>\n",
       "      <td>0</td>\n",
       "      <td>102</td>\n",
       "      <td>2</td>\n",
       "      <td>07:35:00</td>\n",
       "      <td>208.0</td>\n",
       "      <td>25387.8</td>\n",
       "      <td>104</td>\n",
       "    </tr>\n",
       "    <tr>\n",
       "      <th>689129</th>\n",
       "      <td>2010-07-23</td>\n",
       "      <td>7033</td>\n",
       "      <td>LIM</td>\n",
       "      <td>IQT</td>\n",
       "      <td>1007</td>\n",
       "      <td>8.0</td>\n",
       "      <td>0</td>\n",
       "      <td>13</td>\n",
       "      <td>2</td>\n",
       "      <td>0</td>\n",
       "      <td>...</td>\n",
       "      <td>14</td>\n",
       "      <td>0</td>\n",
       "      <td>0</td>\n",
       "      <td>0</td>\n",
       "      <td>0</td>\n",
       "      <td>95</td>\n",
       "      <td>06:20:00</td>\n",
       "      <td>144.0</td>\n",
       "      <td>8114.3</td>\n",
       "      <td>95</td>\n",
       "    </tr>\n",
       "    <tr>\n",
       "      <th>1218876</th>\n",
       "      <td>2011-09-28</td>\n",
       "      <td>5952</td>\n",
       "      <td>NAT</td>\n",
       "      <td>BSB</td>\n",
       "      <td>1771</td>\n",
       "      <td>8.0</td>\n",
       "      <td>0</td>\n",
       "      <td>89</td>\n",
       "      <td>11</td>\n",
       "      <td>27</td>\n",
       "      <td>...</td>\n",
       "      <td>14</td>\n",
       "      <td>0</td>\n",
       "      <td>1</td>\n",
       "      <td>118</td>\n",
       "      <td>0</td>\n",
       "      <td>87</td>\n",
       "      <td>15:20:00</td>\n",
       "      <td>174.0</td>\n",
       "      <td>13532.5</td>\n",
       "      <td>205</td>\n",
       "    </tr>\n",
       "    <tr>\n",
       "      <th>513760</th>\n",
       "      <td>2010-02-20</td>\n",
       "      <td>6162</td>\n",
       "      <td>CGH</td>\n",
       "      <td>FLN</td>\n",
       "      <td>488</td>\n",
       "      <td>1.0</td>\n",
       "      <td>0</td>\n",
       "      <td>99</td>\n",
       "      <td>1</td>\n",
       "      <td>3</td>\n",
       "      <td>...</td>\n",
       "      <td>13</td>\n",
       "      <td>0</td>\n",
       "      <td>0</td>\n",
       "      <td>63</td>\n",
       "      <td>9</td>\n",
       "      <td>126</td>\n",
       "      <td>08:25:00</td>\n",
       "      <td>144.0</td>\n",
       "      <td>6581.6</td>\n",
       "      <td>198</td>\n",
       "    </tr>\n",
       "  </tbody>\n",
       "</table>\n",
       "<p>5 rows × 21 columns</p>\n",
       "</div>"
      ],
      "text/plain": [
       "               date  fligth_number origin destination  distance  noshow  \\\n",
       "id                                                                        \n",
       "1214729  2011-09-25           8985    PMC         SCL       917     1.0   \n",
       "1315195  2011-12-12           8464    AKL         SYD      2160     8.0   \n",
       "689129   2010-07-23           7033    LIM         IQT      1007     8.0   \n",
       "1218876  2011-09-28           5952    NAT         BSB      1771     8.0   \n",
       "513760   2010-02-20           6162    CGH         FLN       488     1.0   \n",
       "\n",
       "         denied_boarding  pax_midlow  pax_high  pax_midhigh  ...  \\\n",
       "id                                                           ...   \n",
       "1214729                0          13         2            0  ...   \n",
       "1315195                0          29         1            1  ...   \n",
       "689129                 0          13         2            0  ...   \n",
       "1218876                0          89        11           27  ...   \n",
       "513760                 0          99         1            3  ...   \n",
       "\n",
       "         pax_freqflyer  group_bookings  out_of_stock  dom_cnx  int_cnx  p2p  \\\n",
       "id                                                                            \n",
       "1214729             24              16             0       66       17   14   \n",
       "1315195              7               0             0        0      102    2   \n",
       "689129              14               0             0        0        0   95   \n",
       "1218876             14               0             1      118        0   87   \n",
       "513760              13               0             0       63        9  126   \n",
       "\n",
       "         departure_time capacity  revenues_usd  bookings  \n",
       "id                                                        \n",
       "1214729        12:08:00    218.0       16137.5        97  \n",
       "1315195        07:35:00    208.0       25387.8       104  \n",
       "689129         06:20:00    144.0        8114.3        95  \n",
       "1218876        15:20:00    174.0       13532.5       205  \n",
       "513760         08:25:00    144.0        6581.6       198  \n",
       "\n",
       "[5 rows x 21 columns]"
      ]
     },
     "execution_count": 32,
     "metadata": {},
     "output_type": "execute_result"
    }
   ],
   "source": [
    "import pandas as pd\n",
    "import numpy as np\n",
    "import seaborn as sns\n",
    "import matplotlib.pyplot as plt\n",
    "import feature_engine as fe\n",
    "\n",
    "df_train = pd.read_csv(\"ALUMNOS-trainData.csv\", low_memory=False).set_index(\"id\")\n",
    "df_test = pd.read_csv(\"ALUMNOS-evalData.csv\", low_memory=False).set_index(\"id\")\n",
    "print(df_train.shape)\n",
    "df_train.sample(5)"
   ]
  },
  {
   "cell_type": "code",
   "execution_count": 34,
   "metadata": {},
   "outputs": [
    {
     "data": {
      "text/html": [
       "<div>\n",
       "<style scoped>\n",
       "    .dataframe tbody tr th:only-of-type {\n",
       "        vertical-align: middle;\n",
       "    }\n",
       "\n",
       "    .dataframe tbody tr th {\n",
       "        vertical-align: top;\n",
       "    }\n",
       "\n",
       "    .dataframe thead th {\n",
       "        text-align: right;\n",
       "    }\n",
       "</style>\n",
       "<table border=\"1\" class=\"dataframe\">\n",
       "  <thead>\n",
       "    <tr style=\"text-align: right;\">\n",
       "      <th></th>\n",
       "      <th>date</th>\n",
       "      <th>fligth_number</th>\n",
       "      <th>origin</th>\n",
       "      <th>destination</th>\n",
       "      <th>distance</th>\n",
       "      <th>noshow</th>\n",
       "      <th>denied_boarding</th>\n",
       "      <th>pax_midlow</th>\n",
       "      <th>pax_high</th>\n",
       "      <th>pax_midhigh</th>\n",
       "      <th>...</th>\n",
       "      <th>group_bookings</th>\n",
       "      <th>out_of_stock</th>\n",
       "      <th>dom_cnx</th>\n",
       "      <th>int_cnx</th>\n",
       "      <th>p2p</th>\n",
       "      <th>departure_time</th>\n",
       "      <th>capacity</th>\n",
       "      <th>revenues_usd</th>\n",
       "      <th>bookings</th>\n",
       "      <th>nsbin</th>\n",
       "    </tr>\n",
       "    <tr>\n",
       "      <th>id</th>\n",
       "      <th></th>\n",
       "      <th></th>\n",
       "      <th></th>\n",
       "      <th></th>\n",
       "      <th></th>\n",
       "      <th></th>\n",
       "      <th></th>\n",
       "      <th></th>\n",
       "      <th></th>\n",
       "      <th></th>\n",
       "      <th></th>\n",
       "      <th></th>\n",
       "      <th></th>\n",
       "      <th></th>\n",
       "      <th></th>\n",
       "      <th></th>\n",
       "      <th></th>\n",
       "      <th></th>\n",
       "      <th></th>\n",
       "      <th></th>\n",
       "      <th></th>\n",
       "    </tr>\n",
       "  </thead>\n",
       "  <tbody>\n",
       "    <tr>\n",
       "      <th>183788</th>\n",
       "      <td>2009-05-29</td>\n",
       "      <td>6211</td>\n",
       "      <td>CLO</td>\n",
       "      <td>BOG</td>\n",
       "      <td>297</td>\n",
       "      <td>7.0</td>\n",
       "      <td>0</td>\n",
       "      <td>147</td>\n",
       "      <td>0</td>\n",
       "      <td>2</td>\n",
       "      <td>...</td>\n",
       "      <td>0</td>\n",
       "      <td>1</td>\n",
       "      <td>65</td>\n",
       "      <td>23</td>\n",
       "      <td>190</td>\n",
       "      <td>10:05:00</td>\n",
       "      <td>174.0</td>\n",
       "      <td>4156.2</td>\n",
       "      <td>278</td>\n",
       "      <td>1</td>\n",
       "    </tr>\n",
       "    <tr>\n",
       "      <th>896806</th>\n",
       "      <td>2011-01-10</td>\n",
       "      <td>7225</td>\n",
       "      <td>CUZ</td>\n",
       "      <td>LIM</td>\n",
       "      <td>586</td>\n",
       "      <td>1.0</td>\n",
       "      <td>0</td>\n",
       "      <td>5</td>\n",
       "      <td>13</td>\n",
       "      <td>0</td>\n",
       "      <td>...</td>\n",
       "      <td>0</td>\n",
       "      <td>0</td>\n",
       "      <td>23</td>\n",
       "      <td>2</td>\n",
       "      <td>26</td>\n",
       "      <td>13:20:00</td>\n",
       "      <td>120.0</td>\n",
       "      <td>6781.7</td>\n",
       "      <td>51</td>\n",
       "      <td>0</td>\n",
       "    </tr>\n",
       "    <tr>\n",
       "      <th>227406</th>\n",
       "      <td>2009-07-04</td>\n",
       "      <td>8332</td>\n",
       "      <td>MDZ</td>\n",
       "      <td>SCL</td>\n",
       "      <td>196</td>\n",
       "      <td>22.0</td>\n",
       "      <td>0</td>\n",
       "      <td>118</td>\n",
       "      <td>15</td>\n",
       "      <td>0</td>\n",
       "      <td>...</td>\n",
       "      <td>0</td>\n",
       "      <td>1</td>\n",
       "      <td>0</td>\n",
       "      <td>108</td>\n",
       "      <td>63</td>\n",
       "      <td>17:19:00</td>\n",
       "      <td>168.0</td>\n",
       "      <td>13641.2</td>\n",
       "      <td>171</td>\n",
       "      <td>1</td>\n",
       "    </tr>\n",
       "    <tr>\n",
       "      <th>277127</th>\n",
       "      <td>2009-08-11</td>\n",
       "      <td>6189</td>\n",
       "      <td>GIG</td>\n",
       "      <td>VIX</td>\n",
       "      <td>415</td>\n",
       "      <td>6.0</td>\n",
       "      <td>0</td>\n",
       "      <td>68</td>\n",
       "      <td>6</td>\n",
       "      <td>0</td>\n",
       "      <td>...</td>\n",
       "      <td>0</td>\n",
       "      <td>0</td>\n",
       "      <td>25</td>\n",
       "      <td>10</td>\n",
       "      <td>123</td>\n",
       "      <td>09:40:00</td>\n",
       "      <td>174.0</td>\n",
       "      <td>6328.0</td>\n",
       "      <td>158</td>\n",
       "      <td>1</td>\n",
       "    </tr>\n",
       "    <tr>\n",
       "      <th>781724</th>\n",
       "      <td>2010-10-06</td>\n",
       "      <td>7202</td>\n",
       "      <td>LIM</td>\n",
       "      <td>CUZ</td>\n",
       "      <td>586</td>\n",
       "      <td>13.0</td>\n",
       "      <td>0</td>\n",
       "      <td>14</td>\n",
       "      <td>0</td>\n",
       "      <td>1</td>\n",
       "      <td>...</td>\n",
       "      <td>0</td>\n",
       "      <td>0</td>\n",
       "      <td>20</td>\n",
       "      <td>0</td>\n",
       "      <td>93</td>\n",
       "      <td>16:00:00</td>\n",
       "      <td>174.0</td>\n",
       "      <td>5951.2</td>\n",
       "      <td>113</td>\n",
       "      <td>1</td>\n",
       "    </tr>\n",
       "  </tbody>\n",
       "</table>\n",
       "<p>5 rows × 22 columns</p>\n",
       "</div>"
      ],
      "text/plain": [
       "              date  fligth_number origin destination  distance  noshow  \\\n",
       "id                                                                       \n",
       "183788  2009-05-29           6211    CLO         BOG       297     7.0   \n",
       "896806  2011-01-10           7225    CUZ         LIM       586     1.0   \n",
       "227406  2009-07-04           8332    MDZ         SCL       196    22.0   \n",
       "277127  2009-08-11           6189    GIG         VIX       415     6.0   \n",
       "781724  2010-10-06           7202    LIM         CUZ       586    13.0   \n",
       "\n",
       "        denied_boarding  pax_midlow  pax_high  pax_midhigh  ...  \\\n",
       "id                                                          ...   \n",
       "183788                0         147         0            2  ...   \n",
       "896806                0           5        13            0  ...   \n",
       "227406                0         118        15            0  ...   \n",
       "277127                0          68         6            0  ...   \n",
       "781724                0          14         0            1  ...   \n",
       "\n",
       "        group_bookings  out_of_stock  dom_cnx  int_cnx  p2p  departure_time  \\\n",
       "id                                                                            \n",
       "183788               0             1       65       23  190        10:05:00   \n",
       "896806               0             0       23        2   26        13:20:00   \n",
       "227406               0             1        0      108   63        17:19:00   \n",
       "277127               0             0       25       10  123        09:40:00   \n",
       "781724               0             0       20        0   93        16:00:00   \n",
       "\n",
       "        capacity revenues_usd  bookings  nsbin  \n",
       "id                                              \n",
       "183788     174.0       4156.2       278      1  \n",
       "896806     120.0       6781.7        51      0  \n",
       "227406     168.0      13641.2       171      1  \n",
       "277127     174.0       6328.0       158      1  \n",
       "781724     174.0       5951.2       113      1  \n",
       "\n",
       "[5 rows x 22 columns]"
      ]
     },
     "execution_count": 34,
     "metadata": {},
     "output_type": "execute_result"
    }
   ],
   "source": [
    "# nsbin = noshow binary > 3\n",
    "df_train[\"nsbin\"] = df_train.noshow.transform(lambda x: 1 if x > 3 else 0)\n",
    "df_train.sample(5)"
   ]
  },
  {
   "cell_type": "code",
   "execution_count": 91,
   "metadata": {},
   "outputs": [
    {
     "data": {
      "text/html": [
       "<div>\n",
       "<style scoped>\n",
       "    .dataframe tbody tr th:only-of-type {\n",
       "        vertical-align: middle;\n",
       "    }\n",
       "\n",
       "    .dataframe tbody tr th {\n",
       "        vertical-align: top;\n",
       "    }\n",
       "\n",
       "    .dataframe thead th {\n",
       "        text-align: right;\n",
       "    }\n",
       "</style>\n",
       "<table border=\"1\" class=\"dataframe\">\n",
       "  <thead>\n",
       "    <tr style=\"text-align: right;\">\n",
       "      <th></th>\n",
       "      <th>date</th>\n",
       "      <th>flight_number</th>\n",
       "      <th>origin</th>\n",
       "      <th>destination</th>\n",
       "      <th>distance</th>\n",
       "      <th>noshow</th>\n",
       "      <th>denied_boarding</th>\n",
       "      <th>pax_midlow</th>\n",
       "      <th>pax_high</th>\n",
       "      <th>pax_midhigh</th>\n",
       "      <th>...</th>\n",
       "      <th>group_bookings</th>\n",
       "      <th>out_of_stock</th>\n",
       "      <th>dom_cnx</th>\n",
       "      <th>int_cnx</th>\n",
       "      <th>p2p</th>\n",
       "      <th>departure_time</th>\n",
       "      <th>capacity</th>\n",
       "      <th>revenues_usd</th>\n",
       "      <th>bookings</th>\n",
       "      <th>nsbin</th>\n",
       "    </tr>\n",
       "    <tr>\n",
       "      <th>id</th>\n",
       "      <th></th>\n",
       "      <th></th>\n",
       "      <th></th>\n",
       "      <th></th>\n",
       "      <th></th>\n",
       "      <th></th>\n",
       "      <th></th>\n",
       "      <th></th>\n",
       "      <th></th>\n",
       "      <th></th>\n",
       "      <th></th>\n",
       "      <th></th>\n",
       "      <th></th>\n",
       "      <th></th>\n",
       "      <th></th>\n",
       "      <th></th>\n",
       "      <th></th>\n",
       "      <th></th>\n",
       "      <th></th>\n",
       "      <th></th>\n",
       "      <th></th>\n",
       "    </tr>\n",
       "  </thead>\n",
       "  <tbody>\n",
       "    <tr>\n",
       "      <th>430325</th>\n",
       "      <td>2009-12-12</td>\n",
       "      <td>7125</td>\n",
       "      <td>AQP</td>\n",
       "      <td>LIM</td>\n",
       "      <td>768</td>\n",
       "      <td>11.0</td>\n",
       "      <td>0</td>\n",
       "      <td>99</td>\n",
       "      <td>1</td>\n",
       "      <td>11</td>\n",
       "      <td>...</td>\n",
       "      <td>0</td>\n",
       "      <td>0</td>\n",
       "      <td>7</td>\n",
       "      <td>14</td>\n",
       "      <td>217</td>\n",
       "      <td>16:45:00</td>\n",
       "      <td>174.0</td>\n",
       "      <td>10168.5</td>\n",
       "      <td>238</td>\n",
       "      <td>1</td>\n",
       "    </tr>\n",
       "    <tr>\n",
       "      <th>1054586</th>\n",
       "      <td>2011-05-21</td>\n",
       "      <td>5478</td>\n",
       "      <td>CGH</td>\n",
       "      <td>SJP</td>\n",
       "      <td>421</td>\n",
       "      <td>3.0</td>\n",
       "      <td>0</td>\n",
       "      <td>97</td>\n",
       "      <td>0</td>\n",
       "      <td>7</td>\n",
       "      <td>...</td>\n",
       "      <td>0</td>\n",
       "      <td>0</td>\n",
       "      <td>53</td>\n",
       "      <td>0</td>\n",
       "      <td>70</td>\n",
       "      <td>07:55:00</td>\n",
       "      <td>174.0</td>\n",
       "      <td>5740.1</td>\n",
       "      <td>123</td>\n",
       "      <td>0</td>\n",
       "    </tr>\n",
       "    <tr>\n",
       "      <th>739915</th>\n",
       "      <td>2010-09-01</td>\n",
       "      <td>5616</td>\n",
       "      <td>CGB</td>\n",
       "      <td>BSB</td>\n",
       "      <td>877</td>\n",
       "      <td>7.0</td>\n",
       "      <td>0</td>\n",
       "      <td>63</td>\n",
       "      <td>4</td>\n",
       "      <td>21</td>\n",
       "      <td>...</td>\n",
       "      <td>0</td>\n",
       "      <td>0</td>\n",
       "      <td>54</td>\n",
       "      <td>0</td>\n",
       "      <td>93</td>\n",
       "      <td>20:33:00</td>\n",
       "      <td>174.0</td>\n",
       "      <td>13022.5</td>\n",
       "      <td>147</td>\n",
       "      <td>1</td>\n",
       "    </tr>\n",
       "    <tr>\n",
       "      <th>19827</th>\n",
       "      <td>2009-01-16</td>\n",
       "      <td>4918</td>\n",
       "      <td>BRC</td>\n",
       "      <td>AEP</td>\n",
       "      <td>1336</td>\n",
       "      <td>3.0</td>\n",
       "      <td>0</td>\n",
       "      <td>120</td>\n",
       "      <td>2</td>\n",
       "      <td>14</td>\n",
       "      <td>...</td>\n",
       "      <td>0</td>\n",
       "      <td>0</td>\n",
       "      <td>1</td>\n",
       "      <td>5</td>\n",
       "      <td>206</td>\n",
       "      <td>16:25:00</td>\n",
       "      <td>168.0</td>\n",
       "      <td>21669.0</td>\n",
       "      <td>212</td>\n",
       "      <td>0</td>\n",
       "    </tr>\n",
       "    <tr>\n",
       "      <th>125052</th>\n",
       "      <td>2009-04-10</td>\n",
       "      <td>6673</td>\n",
       "      <td>LIM</td>\n",
       "      <td>PUJ</td>\n",
       "      <td>3532</td>\n",
       "      <td>1.0</td>\n",
       "      <td>0</td>\n",
       "      <td>99</td>\n",
       "      <td>0</td>\n",
       "      <td>0</td>\n",
       "      <td>...</td>\n",
       "      <td>7</td>\n",
       "      <td>0</td>\n",
       "      <td>0</td>\n",
       "      <td>103</td>\n",
       "      <td>105</td>\n",
       "      <td>13:05:00</td>\n",
       "      <td>144.0</td>\n",
       "      <td>16440.2</td>\n",
       "      <td>208</td>\n",
       "      <td>0</td>\n",
       "    </tr>\n",
       "  </tbody>\n",
       "</table>\n",
       "<p>5 rows × 22 columns</p>\n",
       "</div>"
      ],
      "text/plain": [
       "               date  flight_number origin destination  distance  noshow  \\\n",
       "id                                                                        \n",
       "430325   2009-12-12           7125    AQP         LIM       768    11.0   \n",
       "1054586  2011-05-21           5478    CGH         SJP       421     3.0   \n",
       "739915   2010-09-01           5616    CGB         BSB       877     7.0   \n",
       "19827    2009-01-16           4918    BRC         AEP      1336     3.0   \n",
       "125052   2009-04-10           6673    LIM         PUJ      3532     1.0   \n",
       "\n",
       "         denied_boarding  pax_midlow  pax_high  pax_midhigh  ...  \\\n",
       "id                                                           ...   \n",
       "430325                 0          99         1           11  ...   \n",
       "1054586                0          97         0            7  ...   \n",
       "739915                 0          63         4           21  ...   \n",
       "19827                  0         120         2           14  ...   \n",
       "125052                 0          99         0            0  ...   \n",
       "\n",
       "         group_bookings  out_of_stock  dom_cnx  int_cnx  p2p  departure_time  \\\n",
       "id                                                                             \n",
       "430325                0             0        7       14  217        16:45:00   \n",
       "1054586               0             0       53        0   70        07:55:00   \n",
       "739915                0             0       54        0   93        20:33:00   \n",
       "19827                 0             0        1        5  206        16:25:00   \n",
       "125052                7             0        0      103  105        13:05:00   \n",
       "\n",
       "         capacity revenues_usd  bookings  nsbin  \n",
       "id                                               \n",
       "430325      174.0      10168.5       238      1  \n",
       "1054586     174.0       5740.1       123      0  \n",
       "739915      174.0      13022.5       147      1  \n",
       "19827       168.0      21669.0       212      0  \n",
       "125052      144.0      16440.2       208      0  \n",
       "\n",
       "[5 rows x 22 columns]"
      ]
     },
     "execution_count": 91,
     "metadata": {},
     "output_type": "execute_result"
    }
   ],
   "source": [
    "df_train.rename(columns={\"fligth_number\": \"flight_number\"}, inplace=True)\n",
    "df_train.sample(5)"
   ]
  },
  {
   "cell_type": "markdown",
   "metadata": {},
   "source": [
    "## Vector Objetivo"
   ]
  },
  {
   "cell_type": "code",
   "execution_count": 84,
   "metadata": {},
   "outputs": [
    {
     "data": {
      "text/plain": [
       "count    999890.000000\n",
       "mean          6.015652\n",
       "std           5.112598\n",
       "min           0.000000\n",
       "1%            0.000000\n",
       "5%            0.000000\n",
       "10%           1.000000\n",
       "25%           3.000000\n",
       "50%           5.000000\n",
       "75%           8.000000\n",
       "90%          12.000000\n",
       "95%          15.000000\n",
       "99%          23.000000\n",
       "99.9%        44.000000\n",
       "max         271.000000\n",
       "Name: noshow, dtype: float64"
      ]
     },
     "execution_count": 84,
     "metadata": {},
     "output_type": "execute_result"
    }
   ],
   "source": [
    "# resumen de noshow\n",
    "df_train.noshow.describe(percentiles=[0.01, 0.05, 0.1, 0.25, 0.5, 0.75, 0.9, 0.95, 0.99, 0.999])"
   ]
  },
  {
   "cell_type": "code",
   "execution_count": 57,
   "metadata": {},
   "outputs": [
    {
     "data": {
      "image/png": "[encoded data removed]",
      "text/plain": [
       "<Figure size 360x360 with 1 Axes>"
      ]
     },
     "metadata": {
      "needs_background": "light"
     },
     "output_type": "display_data"
    },
    {
     "data": {
      "text/plain": [
       "<AxesSubplot:xlabel='nsbin', ylabel='count'>"
      ]
     },
     "execution_count": 57,
     "metadata": {},
     "output_type": "execute_result"
    },
    {
     "data": {
      "image/png": "[encoded data removed]",
      "text/plain": [
       "<Figure size 432x288 with 1 Axes>"
      ]
     },
     "metadata": {
      "needs_background": "light"
     },
     "output_type": "display_data"
    }
   ],
   "source": [
    "# plot de noshow sin outliers (quitando outliers sobre 99.9 percentil)\n",
    "sns.displot(df_train.noshow[df_train.noshow < df_train.noshow.quantile(0.999)], kde=False, bins=20)\n",
    "plt.show()\n",
    "\n",
    "# plot de nsbin (noshow binario)\n",
    "sns.countplot(x=\"nsbin\", data=df_train)\n",
    "\n",
    "\n"
   ]
  },
  {
   "cell_type": "markdown",
   "metadata": {},
   "source": [
    "## EDA"
   ]
  },
  {
   "cell_type": "code",
   "execution_count": 58,
   "metadata": {},
   "outputs": [
    {
     "data": {
      "image/png": "[encoded data removed]",
      "text/plain": [
       "<Figure size 2304x864 with 20 Axes>"
      ]
     },
     "metadata": {
      "needs_background": "light"
     },
     "output_type": "display_data"
    }
   ],
   "source": [
    "# distribuciones de los datos numéricos\n",
    "df_train.select_dtypes(np.number).hist(figsize=(32, 12), bins=64)\n",
    "plt.tight_layout()\n"
   ]
  },
  {
   "cell_type": "markdown",
   "metadata": {},
   "source": [
    "## Valores Ausentes"
   ]
  },
  {
   "cell_type": "code",
   "execution_count": 59,
   "metadata": {},
   "outputs": [
    {
     "data": {
      "text/plain": [
       "departure_time     1418\n",
       "date                  0\n",
       "fligth_number         0\n",
       "bookings              0\n",
       "revenues_usd          0\n",
       "capacity              0\n",
       "p2p                   0\n",
       "int_cnx               0\n",
       "dom_cnx               0\n",
       "out_of_stock          0\n",
       "group_bookings        0\n",
       "pax_freqflyer         0\n",
       "pax_low               0\n",
       "pax_midhigh           0\n",
       "pax_high              0\n",
       "pax_midlow            0\n",
       "denied_boarding       0\n",
       "noshow                0\n",
       "distance              0\n",
       "destination           0\n",
       "origin                0\n",
       "nsbin                 0\n",
       "dtype: int64"
      ]
     },
     "execution_count": 59,
     "metadata": {},
     "output_type": "execute_result"
    }
   ],
   "source": [
    "# conteo de valores austentes\n",
    "df_train.isnull().sum().sort_values(ascending=False)"
   ]
  },
  {
   "cell_type": "markdown",
   "metadata": {},
   "source": [
    "Solo existen 1418 valores ausentes en departure_time"
   ]
  },
  {
   "cell_type": "code",
   "execution_count": 60,
   "metadata": {},
   "outputs": [
    {
     "data": {
      "text/plain": [
       "Index(['date', 'origin', 'destination', 'departure_time'], dtype='object')"
      ]
     },
     "execution_count": 60,
     "metadata": {},
     "output_type": "execute_result"
    }
   ],
   "source": [
    "# datos no numéricos\n",
    "df_train.select_dtypes(exclude=np.number).columns"
   ]
  },
  {
   "cell_type": "code",
   "execution_count": 102,
   "metadata": {},
   "outputs": [],
   "source": [
    "# flight_number como categórico\n",
    "df_train[\"flight_number\"] = df_train.flight_number.astype(\"category\")\n",
    "# departure_time como numérico (en minutos)\n",
    "df_train[\"dt_numeric\"] = pd.to_datetime(df_train.departure_time, format=\"%H:%M:%S\").dt.hour * 60 + pd.to_datetime(df_train.departure_time, format=\"%H:%M:%S\").dt.minute"
   ]
  },
  {
   "cell_type": "code",
   "execution_count": 75,
   "metadata": {},
   "outputs": [
    {
     "data": {
      "image/png": "[encoded data removed]",
      "text/plain": [
       "<Figure size 432x288 with 1 Axes>"
      ]
     },
     "metadata": {
      "needs_background": "light"
     },
     "output_type": "display_data"
    },
    {
     "data": {
      "image/png": "[encoded data removed]",
      "text/plain": [
       "<Figure size 432x288 with 1 Axes>"
      ]
     },
     "metadata": {
      "needs_background": "light"
     },
     "output_type": "display_data"
    }
   ],
   "source": [
    "#plot origen y destino (sólo sobre el 1% del total)\n",
    "df_train.origin.value_counts()[df_train.origin.value_counts() > df_train.shape[0] * 0.01].plot(kind = \"bar\")\n",
    "plt.show()\n",
    "\n",
    "df_train.destination.value_counts()[df_train.destination.value_counts() > df_train.shape[0] * 0.01].plot(kind = \"bar\")\n",
    "plt.show()\n"
   ]
  },
  {
   "cell_type": "code",
   "execution_count": 82,
   "metadata": {},
   "outputs": [
    {
     "data": {
      "text/plain": [
       "<AxesSubplot:>"
      ]
     },
     "execution_count": 82,
     "metadata": {},
     "output_type": "execute_result"
    },
    {
     "data": {
      "image/png": "[encoded data removed]",
      "text/plain": [
       "<Figure size 432x288 with 2 Axes>"
      ]
     },
     "metadata": {
      "needs_background": "light"
     },
     "output_type": "display_data"
    }
   ],
   "source": [
    "# heatmap de correlaciones\n",
    "sns.heatmap(df_train.corr(), cmap=\"coolwarm\")"
   ]
  },
  {
   "cell_type": "code",
   "execution_count": null,
   "metadata": {},
   "outputs": [],
   "source": [
    "# datos numéricos\n",
    "num = pd.DataFrame()\n",
    "num = df_train.select_dtypes(np.number)\n",
    "\n",
    "# datos categóricos\n",
    "cat = pd.DataFrame()\n",
    "cat[\"origin\"] = df_train.origin\n",
    "cat[\"destination\"] = df_train.destination\n",
    "cat[\"flight_number\"] = df_train.flight_number"
   ]
  },
  {
   "cell_type": "code",
   "execution_count": 137,
   "metadata": {},
   "outputs": [
    {
     "name": "stdout",
     "output_type": "stream",
     "text": [
      "SCL    0.094136\n",
      "LIM    0.091913\n",
      "GRU    0.086639\n",
      "CGH    0.077606\n",
      "BSB    0.058022\n",
      "         ...   \n",
      "LAS    0.000038\n",
      "PIO    0.000031\n",
      "MPN    0.000031\n",
      "TLV    0.000010\n",
      "UNA    0.000001\n",
      "Name: origin, Length: 155, dtype: float64\n",
      "SCL    0.094638\n",
      "LIM    0.091625\n",
      "GRU    0.086724\n",
      "CGH    0.077442\n",
      "BSB    0.058251\n",
      "         ...   \n",
      "TLV    0.000009\n",
      "QRO    0.000002\n",
      "TPA    0.000001\n",
      "FLL    0.000001\n",
      "GDL    0.000001\n",
      "Name: destination, Length: 159, dtype: float64\n",
      "8985    0.001731\n",
      "8980    0.001700\n",
      "8464    0.001690\n",
      "8465    0.001682\n",
      "8735    0.001682\n",
      "          ...   \n",
      "8112    0.000001\n",
      "8106    0.000001\n",
      "8093    0.000001\n",
      "8091    0.000001\n",
      "10      0.000001\n",
      "Name: flight_number, Length: 4026, dtype: float64\n"
     ]
    }
   ],
   "source": [
    "for var in cat: \n",
    "    print(cat[var].value_counts()/float(len(cat)))"
   ]
  },
  {
   "cell_type": "markdown",
   "metadata": {},
   "source": [
    "## Feature Engineering"
   ]
  },
  {
   "cell_type": "code",
   "execution_count": 162,
   "metadata": {},
   "outputs": [],
   "source": [
    "## dataframes para eventuales datos de ingeniería de atributos\n",
    "\n",
    "# extracción de datos respecto al booking según tipo de pago\n",
    "ratios = pd.DataFrame()\n",
    "ratios[\"ratio_midlow\"] = df_train.pax_midlow / df_train.bookings\n",
    "ratios[\"ratio_high\"] = df_train.pax_high / df_train.bookings\n",
    "ratios[\"ratio_midhigh\"] = df_train.pax_midhigh / df_train.bookings\n",
    "ratios[\"ratio_low\"] = df_train.pax_low / df_train.bookings\n",
    "ratios[\"ratio_freqflyer\"] = df_train.pax_freqflyer / df_train.bookings\n",
    "\n",
    "\n",
    "# extracción de datos relativos a la fecha\n",
    "dates = pd.DataFrame()\n",
    "dates[\"year\"] = df_train.date.transform(lambda x: int(x.split(\"-\")[0]))\n",
    "dates[\"month\"] = df_train.date.transform(lambda x: int(x.split(\"-\")[1]))\n",
    "dates[\"day\"] = df_train.date.transform(lambda x: int(x.split(\"-\")[2]))\n",
    "dates[\"weekday\"] = df_train.date.transform(lambda x: pd.to_datetime(x).weekday())\n",
    "# hora numérica\n",
    "dates[\"dtime_numeric\"] = df_train.dt_numeric\n",
    "\n",
    "\n",
    "# codificación de datos cíclicos\n",
    "cycles = pd.DataFrame()\n",
    "cycles[\"departure_time_sin\"] = np.sin(2 * np.pi * dates.dtime_numeric / 1440)\n",
    "cycles[\"departure_time_cos\"] = np.cos(2 * np.pi * dates.dtime_numeric / 1440)\n",
    "cycles[\"month_sin\"] = np.sin(2 * np.pi * dates.month / 12)\n",
    "cycles[\"month_cos\"] = np.cos(2 * np.pi * dates.month / 12)\n",
    "cycles[\"day_sin\"] = np.sin(2 * np.pi * dates.day / 31)\n",
    "cycles[\"day_cos\"] = np.cos(2 * np.pi * dates.day / 31)\n",
    "cycles[\"weekday_sin\"] = np.sin(2 * np.pi * dates.weekday / 7)\n",
    "cycles[\"weekday_cos\"] = np.cos(2 * np.pi * dates.weekday / 7)"
   ]
  },
  {
   "cell_type": "code",
   "execution_count": 96,
   "metadata": {},
   "outputs": [
    {
     "data": {
      "text/html": [
       "<div>\n",
       "<style scoped>\n",
       "    .dataframe tbody tr th:only-of-type {\n",
       "        vertical-align: middle;\n",
       "    }\n",
       "\n",
       "    .dataframe tbody tr th {\n",
       "        vertical-align: top;\n",
       "    }\n",
       "\n",
       "    .dataframe thead th {\n",
       "        text-align: right;\n",
       "    }\n",
       "</style>\n",
       "<table border=\"1\" class=\"dataframe\">\n",
       "  <thead>\n",
       "    <tr style=\"text-align: right;\">\n",
       "      <th></th>\n",
       "      <th>ratio_midlow</th>\n",
       "      <th>ratio_high</th>\n",
       "      <th>ratio_midhigh</th>\n",
       "      <th>ratio_low</th>\n",
       "      <th>ratio_freqflyer</th>\n",
       "    </tr>\n",
       "    <tr>\n",
       "      <th>id</th>\n",
       "      <th></th>\n",
       "      <th></th>\n",
       "      <th></th>\n",
       "      <th></th>\n",
       "      <th></th>\n",
       "    </tr>\n",
       "  </thead>\n",
       "  <tbody>\n",
       "    <tr>\n",
       "      <th>243158</th>\n",
       "      <td>0.387597</td>\n",
       "      <td>0.085271</td>\n",
       "      <td>0.193798</td>\n",
       "      <td>0.310078</td>\n",
       "      <td>0.023256</td>\n",
       "    </tr>\n",
       "    <tr>\n",
       "      <th>151780</th>\n",
       "      <td>0.504587</td>\n",
       "      <td>0.000000</td>\n",
       "      <td>0.004587</td>\n",
       "      <td>0.403670</td>\n",
       "      <td>0.087156</td>\n",
       "    </tr>\n",
       "    <tr>\n",
       "      <th>259298</th>\n",
       "      <td>0.653061</td>\n",
       "      <td>0.010204</td>\n",
       "      <td>0.025510</td>\n",
       "      <td>0.295918</td>\n",
       "      <td>0.015306</td>\n",
       "    </tr>\n",
       "    <tr>\n",
       "      <th>64108</th>\n",
       "      <td>0.549738</td>\n",
       "      <td>0.047120</td>\n",
       "      <td>0.005236</td>\n",
       "      <td>0.198953</td>\n",
       "      <td>0.198953</td>\n",
       "    </tr>\n",
       "    <tr>\n",
       "      <th>1003562</th>\n",
       "      <td>0.000000</td>\n",
       "      <td>0.000000</td>\n",
       "      <td>0.000000</td>\n",
       "      <td>0.945455</td>\n",
       "      <td>0.054545</td>\n",
       "    </tr>\n",
       "  </tbody>\n",
       "</table>\n",
       "</div>"
      ],
      "text/plain": [
       "         ratio_midlow  ratio_high  ratio_midhigh  ratio_low  ratio_freqflyer\n",
       "id                                                                          \n",
       "243158       0.387597    0.085271       0.193798   0.310078         0.023256\n",
       "151780       0.504587    0.000000       0.004587   0.403670         0.087156\n",
       "259298       0.653061    0.010204       0.025510   0.295918         0.015306\n",
       "64108        0.549738    0.047120       0.005236   0.198953         0.198953\n",
       "1003562      0.000000    0.000000       0.000000   0.945455         0.054545"
      ]
     },
     "execution_count": 96,
     "metadata": {},
     "output_type": "execute_result"
    }
   ],
   "source": [
    "ratios.sample(5)"
   ]
  },
  {
   "cell_type": "code",
   "execution_count": 163,
   "metadata": {},
   "outputs": [],
   "source": [
    "# df con datos de ingeniería de atributos exc\n",
    "full_train = pd.concat([num, cat, ratios, dates, cycles], axis=1)\n",
    "cycle_train = pd.concat([num, cycles], axis=1)"
   ]
  },
  {
   "cell_type": "markdown",
   "metadata": {},
   "source": [
    "## Modelo Naive Bayes"
   ]
  },
  {
   "cell_type": "code",
   "execution_count": 132,
   "metadata": {},
   "outputs": [],
   "source": [
    "# módulos para naive bayes classifier\n",
    "\n",
    "from sklearn.naive_bayes import GaussianNB\n",
    "from sklearn.model_selection import train_test_split\n",
    "from sklearn.metrics import accuracy_score, confusion_matrix, classification_report\n",
    "from sklearn import preprocessing"
   ]
  },
  {
   "cell_type": "code",
   "execution_count": 122,
   "metadata": {},
   "outputs": [
    {
     "data": {
      "text/plain": [
       "GaussianNB()"
      ]
     },
     "execution_count": 122,
     "metadata": {},
     "output_type": "execute_result"
    }
   ],
   "source": [
    "# naive bayes\n",
    "gnb = GaussianNB()\n",
    "\n",
    "# imputación de valores faltantes con media\n",
    "full_train.fillna(full_train.mean(), inplace=True)\n",
    "\n",
    "# codificación de datos categóricos\n",
    "le = preprocessing.LabelEncoder()\n",
    "full_train[\"origin\"] = le.fit_transform(full_train.origin)\n",
    "full_train[\"destination\"] = le.fit_transform(full_train.destination)\n",
    "full_train[\"flight_number\"] = le.fit_transform(full_train.flight_number)\n",
    "\n",
    "# split de datos removiendo nsbin y noshow\n",
    "X_train, X_test, y_train, y_test = train_test_split(full_train.drop([\"nsbin\", \"noshow\"], axis=1), full_train.nsbin, test_size=0.2, random_state=42)\n",
    "\n",
    "# fit del modelo\n",
    "gnb.fit(X_train, y_train)"
   ]
  },
  {
   "cell_type": "code",
   "execution_count": 126,
   "metadata": {},
   "outputs": [
    {
     "data": {
      "text/plain": [
       "GaussianNB()"
      ]
     },
     "execution_count": 126,
     "metadata": {},
     "output_type": "execute_result"
    }
   ],
   "source": [
    "# naive bayes con cycle_train\n",
    "gnb = GaussianNB()\n",
    "\n",
    "# imputación de valores faltantes con media\n",
    "cycle_train.fillna(cycle_train.mean(), inplace=True)\n",
    "\n",
    "# split de datos removiendo nsbin y noshow\n",
    "X_train, X_test, y_train, y_test = train_test_split(cycle_train.drop([\"nsbin\", \"noshow\"], axis=1), cycle_train.nsbin, test_size=0.3, random_state=42)\n",
    "\n",
    "# fit del modelo\n",
    "gnb.fit(X_train, y_train)"
   ]
  },
  {
   "cell_type": "code",
   "execution_count": 127,
   "metadata": {},
   "outputs": [
    {
     "name": "stdout",
     "output_type": "stream",
     "text": [
      "Accuracy: 0.6491580740548127\n",
      "Confusion matrix:\n",
      " [[ 19311  84433]\n",
      " [ 20808 175415]]\n",
      "Classification report:\n",
      "               precision    recall  f1-score   support\n",
      "\n",
      "           0       0.48      0.19      0.27    103744\n",
      "           1       0.68      0.89      0.77    196223\n",
      "\n",
      "    accuracy                           0.65    299967\n",
      "   macro avg       0.58      0.54      0.52    299967\n",
      "weighted avg       0.61      0.65      0.60    299967\n",
      "\n"
     ]
    }
   ],
   "source": [
    "# predicción\n",
    "y_pred = gnb.predict(X_test)\n",
    "\n",
    "# métricas\n",
    "print(\"Accuracy:\", accuracy_score(y_test, y_pred))\n",
    "print(\"Confusion matrix:\\n\", confusion_matrix(y_test, y_pred))\n",
    "print(\"Classification report:\\n\", classification_report(y_test, y_pred))\n"
   ]
  },
  {
   "cell_type": "markdown",
   "metadata": {},
   "source": [
    "# Modelo Ensamblado: XGBoost"
   ]
  },
  {
   "cell_type": "code",
   "execution_count": 158,
   "metadata": {},
   "outputs": [],
   "source": [
    "# módulos para XGBoost classifier\n",
    "from xgboost import XGBClassifier\n",
    "from sklearn.metrics import accuracy_score, confusion_matrix, classification_report\n",
    "from sklearn.model_selection import train_test_split\n",
    "from sklearn import preprocessing"
   ]
  },
  {
   "cell_type": "code",
   "execution_count": 180,
   "metadata": {},
   "outputs": [
    {
     "data": {
      "text/plain": [
       "array([ 12,  79, 122, ...,  62,  53, 144])"
      ]
     },
     "execution_count": 180,
     "metadata": {},
     "output_type": "execute_result"
    }
   ],
   "source": [
    "le.fit_transform(full_train.origin)"
   ]
  },
  {
   "cell_type": "code",
   "execution_count": 181,
   "metadata": {},
   "outputs": [
    {
     "name": "stderr",
     "output_type": "stream",
     "text": [
      "C:\\Users\\ALEX\\AppData\\Local\\Temp\\ipykernel_17840\\119870499.py:5: FutureWarning: Dropping of nuisance columns in DataFrame reductions (with 'numeric_only=None') is deprecated; in a future version this will raise TypeError.  Select only valid columns before calling the reduction.\n",
      "  full_train.fillna(full_train.mean(), inplace=True)\n"
     ]
    },
    {
     "name": "stdout",
     "output_type": "stream",
     "text": [
      "Accuracy: 0.7262748902379261\n",
      "Confusion matrix:\n",
      " [[ 29088  40020]\n",
      " [ 14719 116151]]\n",
      "Classification report:\n",
      "               precision    recall  f1-score   support\n",
      "\n",
      "           0       0.66      0.42      0.52     69108\n",
      "           1       0.74      0.89      0.81    130870\n",
      "\n",
      "    accuracy                           0.73    199978\n",
      "   macro avg       0.70      0.65      0.66    199978\n",
      "weighted avg       0.72      0.73      0.71    199978\n",
      "\n"
     ]
    }
   ],
   "source": [
    "# XGBoost\n",
    "xgb = XGBClassifier()\n",
    "\n",
    "# imputacion\n",
    "full_train.fillna(full_train.mean(), inplace=True)\n",
    "\n",
    "# encoding\n",
    "le = preprocessing.LabelEncoder()\n",
    "full_train[\"origin\"] = le.fit_transform(full_train.origin)\n",
    "full_train[\"destination\"] = le.fit_transform(full_train.destination)\n",
    "full_train[\"flight_number\"] = le.fit_transform(full_train.flight_number)\n",
    "\n",
    "# split\n",
    "X_train, X_test, y_train, y_test = train_test_split(full_train.drop([\"nsbin\", \"noshow\"], axis=1), full_train.nsbin, test_size=0.2, random_state=42)\n",
    "\n",
    "# fit\n",
    "xgb.fit(X_train, y_train)\n",
    "\n",
    "# predicción\n",
    "y_pred = xgb.predict(X_test)\n",
    "\n",
    "# métricas\n",
    "print(\"Accuracy:\", accuracy_score(y_test, y_pred))\n",
    "print(\"Confusion matrix:\\n\", confusion_matrix(y_test, y_pred))\n",
    "print(\"Classification report:\\n\", classification_report(y_test, y_pred))"
   ]
  },
  {
   "cell_type": "code",
   "execution_count": 182,
   "metadata": {},
   "outputs": [],
   "source": [
    "# XGBoost\n",
    "xgb = XGBClassifier()\n",
    "\n",
    "# imputacion\n",
    "df_train.fillna(df_train.mean(), inplace=True)\n",
    "\n",
    "# encoding\n",
    "le = preprocessing.LabelEncoder()\n",
    "full_train[\"origin\"] = le.fit_transform(full_train.origin)\n",
    "full_train[\"destination\"] = le.fit_transform(full_train.destination)\n",
    "full_train[\"flight_number\"] = le.fit_transform(full_train.flight_number)\n",
    "\n",
    "#remove destination\n",
    "full_train.drop(\"destination\", axis=1, inplace=True)\n",
    "\n",
    "# split\n",
    "X_train, X_test, y_train, y_test = train_test_split(full_train.drop([\"nsbin\", \"noshow\"], axis=1), full_train.nsbin, test_size=0.2, random_state=42)\n",
    "\n",
    "# fit\n",
    "xgb.fit(X_train, y_train)\n",
    "\n",
    "# predicción\n",
    "y_pred = xgb.predict(X_test)\n",
    "\n",
    "# métricas\n",
    "print(\"Accuracy:\", accuracy_score(y_test, y_pred))\n",
    "print(\"Confusion matrix:\\n\", confusion_matrix(y_test, y_pred))\n",
    "print(\"Classification report:\\n\", classification_report(y_test, y_pred))"
   ]
  },
  {
   "cell_type": "code",
   "execution_count": null,
   "metadata": {},
   "outputs": [],
   "source": []
  }
 ],
 "metadata": {
  "kernelspec": {
   "display_name": "Python 3.9.12 ('base')",
   "language": "python",
   "name": "python3"
  },
  "language_info": {
   "codemirror_mode": {
    "name": "ipython",
    "version": 3
   },
   "file_extension": ".py",
   "mimetype": "text/x-python",
   "name": "python",
   "nbconvert_exporter": "python",
   "pygments_lexer": "ipython3",
   "version": "3.9.12"
  },
  "orig_nbformat": 4,
  "vscode": {
   "interpreter": {
    "hash": "28df6a81e6d56781468ca2a57cef730a512fcff4b2f0b3c589a934e7dd931cbb"
   }
  }
 },
 "nbformat": 4,
 "nbformat_minor": 2
}
