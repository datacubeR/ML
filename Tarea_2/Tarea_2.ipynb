{
 "cells": [
  {
   "cell_type": "code",
   "execution_count": 1,
   "metadata": {
    "tags": [
     "parameters"
    ]
   },
   "outputs": [
    {
     "name": "stdout",
     "output_type": "stream",
     "text": [
      "(100000, 27)\n"
     ]
    },
    {
     "data": {
      "text/html": [
       "<div>\n",
       "<style scoped>\n",
       "    .dataframe tbody tr th:only-of-type {\n",
       "        vertical-align: middle;\n",
       "    }\n",
       "\n",
       "    .dataframe tbody tr th {\n",
       "        vertical-align: top;\n",
       "    }\n",
       "\n",
       "    .dataframe thead th {\n",
       "        text-align: right;\n",
       "    }\n",
       "</style>\n",
       "<table border=\"1\" class=\"dataframe\">\n",
       "  <thead>\n",
       "    <tr style=\"text-align: right;\">\n",
       "      <th></th>\n",
       "      <th>full_name</th>\n",
       "      <th>a</th>\n",
       "      <th>e</th>\n",
       "      <th>G</th>\n",
       "      <th>i</th>\n",
       "      <th>om</th>\n",
       "      <th>w</th>\n",
       "      <th>q</th>\n",
       "      <th>ad</th>\n",
       "      <th>per_y</th>\n",
       "      <th>...</th>\n",
       "      <th>rot_per</th>\n",
       "      <th>GM</th>\n",
       "      <th>BV</th>\n",
       "      <th>UB</th>\n",
       "      <th>IR</th>\n",
       "      <th>spec_B</th>\n",
       "      <th>spec_T</th>\n",
       "      <th>neo</th>\n",
       "      <th>pha</th>\n",
       "      <th>moid</th>\n",
       "    </tr>\n",
       "    <tr>\n",
       "      <th>index</th>\n",
       "      <th></th>\n",
       "      <th></th>\n",
       "      <th></th>\n",
       "      <th></th>\n",
       "      <th></th>\n",
       "      <th></th>\n",
       "      <th></th>\n",
       "      <th></th>\n",
       "      <th></th>\n",
       "      <th></th>\n",
       "      <th></th>\n",
       "      <th></th>\n",
       "      <th></th>\n",
       "      <th></th>\n",
       "      <th></th>\n",
       "      <th></th>\n",
       "      <th></th>\n",
       "      <th></th>\n",
       "      <th></th>\n",
       "      <th></th>\n",
       "      <th></th>\n",
       "    </tr>\n",
       "  </thead>\n",
       "  <tbody>\n",
       "    <tr>\n",
       "      <th>472620</th>\n",
       "      <td>472621 (2015 DH178)</td>\n",
       "      <td>3.192155</td>\n",
       "      <td>NaN</td>\n",
       "      <td>NaN</td>\n",
       "      <td>14.267797</td>\n",
       "      <td>207.043214</td>\n",
       "      <td>NaN</td>\n",
       "      <td>2.507600</td>\n",
       "      <td>3.876710</td>\n",
       "      <td>5.703404</td>\n",
       "      <td>...</td>\n",
       "      <td>NaN</td>\n",
       "      <td>NaN</td>\n",
       "      <td>NaN</td>\n",
       "      <td>NaN</td>\n",
       "      <td>NaN</td>\n",
       "      <td>NaN</td>\n",
       "      <td>NaN</td>\n",
       "      <td>N</td>\n",
       "      <td>N</td>\n",
       "      <td>NaN</td>\n",
       "    </tr>\n",
       "    <tr>\n",
       "      <th>104771</th>\n",
       "      <td>104772 (2000 HV28)</td>\n",
       "      <td>2.426536</td>\n",
       "      <td>0.068652</td>\n",
       "      <td>NaN</td>\n",
       "      <td>20.813280</td>\n",
       "      <td>NaN</td>\n",
       "      <td>59.071154</td>\n",
       "      <td>NaN</td>\n",
       "      <td>2.593122</td>\n",
       "      <td>NaN</td>\n",
       "      <td>...</td>\n",
       "      <td>NaN</td>\n",
       "      <td>NaN</td>\n",
       "      <td>NaN</td>\n",
       "      <td>NaN</td>\n",
       "      <td>NaN</td>\n",
       "      <td>NaN</td>\n",
       "      <td>NaN</td>\n",
       "      <td>N</td>\n",
       "      <td>N</td>\n",
       "      <td>1.30069</td>\n",
       "    </tr>\n",
       "    <tr>\n",
       "      <th>621766</th>\n",
       "      <td>(2010 BK34)</td>\n",
       "      <td>2.851946</td>\n",
       "      <td>0.296346</td>\n",
       "      <td>NaN</td>\n",
       "      <td>12.257416</td>\n",
       "      <td>NaN</td>\n",
       "      <td>NaN</td>\n",
       "      <td>2.006785</td>\n",
       "      <td>3.697108</td>\n",
       "      <td>4.816375</td>\n",
       "      <td>...</td>\n",
       "      <td>NaN</td>\n",
       "      <td>NaN</td>\n",
       "      <td>NaN</td>\n",
       "      <td>NaN</td>\n",
       "      <td>NaN</td>\n",
       "      <td>NaN</td>\n",
       "      <td>NaN</td>\n",
       "      <td>N</td>\n",
       "      <td>N</td>\n",
       "      <td>1.04122</td>\n",
       "    </tr>\n",
       "    <tr>\n",
       "      <th>173</th>\n",
       "      <td>174 Phaedra</td>\n",
       "      <td>NaN</td>\n",
       "      <td>0.141181</td>\n",
       "      <td>NaN</td>\n",
       "      <td>12.120872</td>\n",
       "      <td>327.668478</td>\n",
       "      <td>289.381885</td>\n",
       "      <td>NaN</td>\n",
       "      <td>3.266384</td>\n",
       "      <td>4.842587</td>\n",
       "      <td>...</td>\n",
       "      <td>5.744</td>\n",
       "      <td>NaN</td>\n",
       "      <td>0.858</td>\n",
       "      <td>0.484</td>\n",
       "      <td>NaN</td>\n",
       "      <td>S</td>\n",
       "      <td>S</td>\n",
       "      <td>N</td>\n",
       "      <td>N</td>\n",
       "      <td>1.47493</td>\n",
       "    </tr>\n",
       "    <tr>\n",
       "      <th>66389</th>\n",
       "      <td>66390 (1999 KL3)</td>\n",
       "      <td>NaN</td>\n",
       "      <td>0.068026</td>\n",
       "      <td>NaN</td>\n",
       "      <td>10.230057</td>\n",
       "      <td>NaN</td>\n",
       "      <td>40.480840</td>\n",
       "      <td>NaN</td>\n",
       "      <td>3.382929</td>\n",
       "      <td>NaN</td>\n",
       "      <td>...</td>\n",
       "      <td>NaN</td>\n",
       "      <td>NaN</td>\n",
       "      <td>NaN</td>\n",
       "      <td>NaN</td>\n",
       "      <td>NaN</td>\n",
       "      <td>NaN</td>\n",
       "      <td>NaN</td>\n",
       "      <td>N</td>\n",
       "      <td>N</td>\n",
       "      <td>NaN</td>\n",
       "    </tr>\n",
       "  </tbody>\n",
       "</table>\n",
       "<p>5 rows × 27 columns</p>\n",
       "</div>"
      ],
      "text/plain": [
       "                  full_name         a         e   G          i          om  \\\n",
       "index                                                                        \n",
       "472620  472621 (2015 DH178)  3.192155       NaN NaN  14.267797  207.043214   \n",
       "104771   104772 (2000 HV28)  2.426536  0.068652 NaN  20.813280         NaN   \n",
       "621766          (2010 BK34)  2.851946  0.296346 NaN  12.257416         NaN   \n",
       "173             174 Phaedra       NaN  0.141181 NaN  12.120872  327.668478   \n",
       "66389      66390 (1999 KL3)       NaN  0.068026 NaN  10.230057         NaN   \n",
       "\n",
       "                 w         q        ad     per_y  ...  rot_per  GM     BV  \\\n",
       "index                                             ...                       \n",
       "472620         NaN  2.507600  3.876710  5.703404  ...      NaN NaN    NaN   \n",
       "104771   59.071154       NaN  2.593122       NaN  ...      NaN NaN    NaN   \n",
       "621766         NaN  2.006785  3.697108  4.816375  ...      NaN NaN    NaN   \n",
       "173     289.381885       NaN  3.266384  4.842587  ...    5.744 NaN  0.858   \n",
       "66389    40.480840       NaN  3.382929       NaN  ...      NaN NaN    NaN   \n",
       "\n",
       "           UB  IR spec_B  spec_T  neo  pha     moid  \n",
       "index                                                \n",
       "472620    NaN NaN    NaN     NaN    N    N      NaN  \n",
       "104771    NaN NaN    NaN     NaN    N    N  1.30069  \n",
       "621766    NaN NaN    NaN     NaN    N    N  1.04122  \n",
       "173     0.484 NaN      S       S    N    N  1.47493  \n",
       "66389     NaN NaN    NaN     NaN    N    N      NaN  \n",
       "\n",
       "[5 rows x 27 columns]"
      ]
     },
     "execution_count": 1,
     "metadata": {},
     "output_type": "execute_result"
    }
   ],
   "source": [
    "import pandas as pd\n",
    "import numpy as np\n",
    "import seaborn as sns\n",
    "import matplotlib.pyplot as plt\n",
    "\n",
    "df_train = pd.read_csv(\"dataTrain.csv\", index_col = 0, low_memory=False).set_index(\"index\")\n",
    "df_test = pd.read_csv(\"dataEval.csv\", index_col = 0, low_memory=False)#.set_index(\"index\")\n",
    "df_train.diameter = df_train.diameter.astype(\"float\")\n",
    "print(df_train.shape)\n",
    "df_train.sample(5)"
   ]
  },
  {
   "cell_type": "markdown",
   "metadata": {},
   "source": [
    "## Vector Objetivo"
   ]
  },
  {
   "cell_type": "code",
   "execution_count": 2,
   "metadata": {},
   "outputs": [
    {
     "data": {
      "image/png": "[encoded data removed]",
      "text/plain": [
       "<Figure size 640x480 with 1 Axes>"
      ]
     },
     "metadata": {},
     "output_type": "display_data"
    }
   ],
   "source": [
    "plt.hist(df_train.diameter, bins = 30);"
   ]
  },
  {
   "cell_type": "code",
   "execution_count": 3,
   "metadata": {},
   "outputs": [
    {
     "data": {
      "image/png": "[encoded data removed]",
      "text/plain": [
       "<Figure size 640x480 with 1 Axes>"
      ]
     },
     "metadata": {},
     "output_type": "display_data"
    }
   ],
   "source": [
    "plt.hist(np.log(df_train.diameter), bins = 30);"
   ]
  },
  {
   "cell_type": "code",
   "execution_count": 4,
   "metadata": {},
   "outputs": [
    {
     "data": {
      "text/plain": [
       "count    100000.000000\n",
       "mean          5.476452\n",
       "std           9.536302\n",
       "min           0.008000\n",
       "25%           2.771000\n",
       "50%           3.960000\n",
       "75%           5.747000\n",
       "max         939.400000\n",
       "Name: diameter, dtype: float64"
      ]
     },
     "execution_count": 4,
     "metadata": {},
     "output_type": "execute_result"
    }
   ],
   "source": [
    "df_train.diameter.describe()"
   ]
  },
  {
   "cell_type": "code",
   "execution_count": 5,
   "metadata": {},
   "outputs": [
    {
     "data": {
      "text/plain": [
       "count    100000.000000\n",
       "mean          1.420759\n",
       "std           0.641214\n",
       "min          -4.828314\n",
       "25%           1.019208\n",
       "50%           1.376244\n",
       "75%           1.748678\n",
       "max           6.845241\n",
       "Name: diameter, dtype: float64"
      ]
     },
     "execution_count": 5,
     "metadata": {},
     "output_type": "execute_result"
    }
   ],
   "source": [
    "pd.Series(np.log(df_train.diameter)).describe()"
   ]
  },
  {
   "cell_type": "markdown",
   "metadata": {},
   "source": [
    "> Posiblemente es una buena idea utilizar clipping o log!! "
   ]
  },
  {
   "cell_type": "markdown",
   "metadata": {},
   "source": [
    "## Features"
   ]
  },
  {
   "cell_type": "code",
   "execution_count": 6,
   "metadata": {},
   "outputs": [
    {
     "data": {
      "image/png": "[encoded data removed]",
      "text/plain": [
       "<Figure size 1600x600 with 25 Axes>"
      ]
     },
     "metadata": {},
     "output_type": "display_data"
    }
   ],
   "source": [
    "df_train.select_dtypes(np.number).hist(figsize=(16, 6))\n",
    "plt.tight_layout();\n"
   ]
  },
  {
   "cell_type": "code",
   "execution_count": 7,
   "metadata": {},
   "outputs": [
    {
     "data": {
      "image/png": "[encoded data removed]",
      "text/plain": [
       "<Figure size 640x480 with 1 Axes>"
      ]
     },
     "metadata": {},
     "output_type": "display_data"
    }
   ],
   "source": [
    "df_train.select_dtypes(np.number).isnull().mean().sort_values(ascending=False).plot(kind = \"bar\");"
   ]
  },
  {
   "cell_type": "code",
   "execution_count": 8,
   "metadata": {},
   "outputs": [
    {
     "data": {
      "image/png": "[encoded data removed]",
      "text/plain": [
       "<Figure size 640x480 with 1 Axes>"
      ]
     },
     "metadata": {},
     "output_type": "display_data"
    }
   ],
   "source": [
    "df_train.select_dtypes(\"object\").isnull().mean().sort_values(ascending=False).plot(kind = \"bar\");"
   ]
  },
  {
   "cell_type": "code",
   "execution_count": 9,
   "metadata": {},
   "outputs": [
    {
     "data": {
      "image/png": "[encoded data removed]",
      "text/plain": [
       "<Figure size 640x480 with 1 Axes>"
      ]
     },
     "metadata": {},
     "output_type": "display_data"
    }
   ],
   "source": [
    "df_train.neo.value_counts().plot(kind = \"bar\");"
   ]
  },
  {
   "cell_type": "code",
   "execution_count": 10,
   "metadata": {},
   "outputs": [
    {
     "data": {
      "image/png": "[encoded data removed]",
      "text/plain": [
       "<Figure size 640x480 with 1 Axes>"
      ]
     },
     "metadata": {},
     "output_type": "display_data"
    }
   ],
   "source": [
    "df_train.pha.value_counts().plot(kind = \"bar\");"
   ]
  },
  {
   "cell_type": "code",
   "execution_count": 11,
   "metadata": {},
   "outputs": [
    {
     "data": {
      "text/plain": [
       "100000"
      ]
     },
     "execution_count": 11,
     "metadata": {},
     "output_type": "execute_result"
    }
   ],
   "source": [
    "df_train.full_name.nunique()"
   ]
  },
  {
   "cell_type": "markdown",
   "metadata": {},
   "source": [
    "## Valores Ausentes"
   ]
  },
  {
   "cell_type": "code",
   "execution_count": 12,
   "metadata": {},
   "outputs": [
    {
     "data": {
      "image/png": "[encoded data removed]",
      "text/plain": [
       "<Figure size 640x480 with 1 Axes>"
      ]
     },
     "metadata": {},
     "output_type": "display_data"
    }
   ],
   "source": [
    "nulls = df_train.isnull().mean().sort_values(ascending=False)\n",
    "nulls.plot(kind = \"bar\");"
   ]
  },
  {
   "cell_type": "code",
   "execution_count": 14,
   "metadata": {},
   "outputs": [
    {
     "data": {
      "text/plain": [
       "['IR', 'GM', 'extent', 'G', 'UB', 'BV', 'spec_B', 'spec_T', 'rot_per']"
      ]
     },
     "execution_count": 14,
     "metadata": {},
     "output_type": "execute_result"
    }
   ],
   "source": [
    "to_remove = nulls.loc[lambda x: x > 0.6].index.tolist()\n",
    "to_remove"
   ]
  },
  {
   "cell_type": "code",
   "execution_count": 16,
   "metadata": {},
   "outputs": [
    {
     "data": {
      "text/html": [
       "<div>\n",
       "<style scoped>\n",
       "    .dataframe tbody tr th:only-of-type {\n",
       "        vertical-align: middle;\n",
       "    }\n",
       "\n",
       "    .dataframe tbody tr th {\n",
       "        vertical-align: top;\n",
       "    }\n",
       "\n",
       "    .dataframe thead th {\n",
       "        text-align: right;\n",
       "    }\n",
       "</style>\n",
       "<table border=\"1\" class=\"dataframe\">\n",
       "  <thead>\n",
       "    <tr style=\"text-align: right;\">\n",
       "      <th></th>\n",
       "      <th>a</th>\n",
       "      <th>e</th>\n",
       "      <th>i</th>\n",
       "      <th>om</th>\n",
       "      <th>w</th>\n",
       "      <th>q</th>\n",
       "      <th>ad</th>\n",
       "      <th>per_y</th>\n",
       "      <th>data_arc</th>\n",
       "      <th>condition_code</th>\n",
       "      <th>n_obs_used</th>\n",
       "      <th>H</th>\n",
       "      <th>diameter</th>\n",
       "      <th>albedo</th>\n",
       "      <th>moid</th>\n",
       "    </tr>\n",
       "  </thead>\n",
       "  <tbody>\n",
       "    <tr>\n",
       "      <th>a</th>\n",
       "      <td>1.000000</td>\n",
       "      <td>-0.056278</td>\n",
       "      <td>0.198148</td>\n",
       "      <td>0.002750</td>\n",
       "      <td>-0.005453</td>\n",
       "      <td>0.507797</td>\n",
       "      <td>0.970148</td>\n",
       "      <td>0.913352</td>\n",
       "      <td>-0.028532</td>\n",
       "      <td>-0.048933</td>\n",
       "      <td>-0.072904</td>\n",
       "      <td>-0.288149</td>\n",
       "      <td>0.214047</td>\n",
       "      <td>-0.163815</td>\n",
       "      <td>0.487896</td>\n",
       "    </tr>\n",
       "    <tr>\n",
       "      <th>e</th>\n",
       "      <td>-0.056278</td>\n",
       "      <td>1.000000</td>\n",
       "      <td>0.148635</td>\n",
       "      <td>0.003936</td>\n",
       "      <td>0.009946</td>\n",
       "      <td>-0.513895</td>\n",
       "      <td>0.208528</td>\n",
       "      <td>0.053648</td>\n",
       "      <td>-0.024669</td>\n",
       "      <td>0.014104</td>\n",
       "      <td>-0.074730</td>\n",
       "      <td>0.192213</td>\n",
       "      <td>-0.048444</td>\n",
       "      <td>-0.023311</td>\n",
       "      <td>-0.479370</td>\n",
       "    </tr>\n",
       "    <tr>\n",
       "      <th>i</th>\n",
       "      <td>0.198148</td>\n",
       "      <td>0.148635</td>\n",
       "      <td>1.000000</td>\n",
       "      <td>-0.005745</td>\n",
       "      <td>-0.008885</td>\n",
       "      <td>0.079673</td>\n",
       "      <td>0.193270</td>\n",
       "      <td>0.110458</td>\n",
       "      <td>-0.206575</td>\n",
       "      <td>0.214992</td>\n",
       "      <td>-0.222990</td>\n",
       "      <td>-0.034802</td>\n",
       "      <td>0.053810</td>\n",
       "      <td>-0.088504</td>\n",
       "      <td>0.120018</td>\n",
       "    </tr>\n",
       "    <tr>\n",
       "      <th>om</th>\n",
       "      <td>0.002750</td>\n",
       "      <td>0.003936</td>\n",
       "      <td>-0.005745</td>\n",
       "      <td>1.000000</td>\n",
       "      <td>-0.110399</td>\n",
       "      <td>-0.001548</td>\n",
       "      <td>0.004001</td>\n",
       "      <td>-0.001674</td>\n",
       "      <td>0.006322</td>\n",
       "      <td>0.021040</td>\n",
       "      <td>-0.022798</td>\n",
       "      <td>0.000549</td>\n",
       "      <td>0.006179</td>\n",
       "      <td>-0.002570</td>\n",
       "      <td>-0.005860</td>\n",
       "    </tr>\n",
       "    <tr>\n",
       "      <th>w</th>\n",
       "      <td>-0.005453</td>\n",
       "      <td>0.009946</td>\n",
       "      <td>-0.008885</td>\n",
       "      <td>-0.110399</td>\n",
       "      <td>1.000000</td>\n",
       "      <td>-0.006456</td>\n",
       "      <td>-0.003088</td>\n",
       "      <td>0.000494</td>\n",
       "      <td>-0.005808</td>\n",
       "      <td>-0.000284</td>\n",
       "      <td>0.011818</td>\n",
       "      <td>-0.005311</td>\n",
       "      <td>0.003034</td>\n",
       "      <td>-0.000973</td>\n",
       "      <td>-0.012721</td>\n",
       "    </tr>\n",
       "    <tr>\n",
       "      <th>q</th>\n",
       "      <td>0.507797</td>\n",
       "      <td>-0.513895</td>\n",
       "      <td>0.079673</td>\n",
       "      <td>-0.001548</td>\n",
       "      <td>-0.006456</td>\n",
       "      <td>1.000000</td>\n",
       "      <td>0.281784</td>\n",
       "      <td>0.081784</td>\n",
       "      <td>-0.021277</td>\n",
       "      <td>-0.092674</td>\n",
       "      <td>-0.078196</td>\n",
       "      <td>-0.382174</td>\n",
       "      <td>0.303424</td>\n",
       "      <td>-0.257956</td>\n",
       "      <td>0.996636</td>\n",
       "    </tr>\n",
       "    <tr>\n",
       "      <th>ad</th>\n",
       "      <td>0.970148</td>\n",
       "      <td>0.208528</td>\n",
       "      <td>0.193270</td>\n",
       "      <td>0.004001</td>\n",
       "      <td>-0.003088</td>\n",
       "      <td>0.281784</td>\n",
       "      <td>1.000000</td>\n",
       "      <td>0.924721</td>\n",
       "      <td>-0.022021</td>\n",
       "      <td>-0.025323</td>\n",
       "      <td>-0.056808</td>\n",
       "      <td>-0.194477</td>\n",
       "      <td>0.179997</td>\n",
       "      <td>-0.102833</td>\n",
       "      <td>0.319223</td>\n",
       "    </tr>\n",
       "    <tr>\n",
       "      <th>per_y</th>\n",
       "      <td>0.913352</td>\n",
       "      <td>0.053648</td>\n",
       "      <td>0.110458</td>\n",
       "      <td>-0.001674</td>\n",
       "      <td>0.000494</td>\n",
       "      <td>0.081784</td>\n",
       "      <td>0.924721</td>\n",
       "      <td>1.000000</td>\n",
       "      <td>-0.008907</td>\n",
       "      <td>-0.001386</td>\n",
       "      <td>-0.007959</td>\n",
       "      <td>-0.031552</td>\n",
       "      <td>0.046439</td>\n",
       "      <td>-0.013841</td>\n",
       "      <td>0.081941</td>\n",
       "    </tr>\n",
       "    <tr>\n",
       "      <th>data_arc</th>\n",
       "      <td>-0.028532</td>\n",
       "      <td>-0.024669</td>\n",
       "      <td>-0.206575</td>\n",
       "      <td>0.006322</td>\n",
       "      <td>-0.005808</td>\n",
       "      <td>-0.021277</td>\n",
       "      <td>-0.022021</td>\n",
       "      <td>-0.008907</td>\n",
       "      <td>1.000000</td>\n",
       "      <td>-0.347135</td>\n",
       "      <td>0.754573</td>\n",
       "      <td>-0.670499</td>\n",
       "      <td>0.492093</td>\n",
       "      <td>0.251847</td>\n",
       "      <td>-0.023014</td>\n",
       "    </tr>\n",
       "    <tr>\n",
       "      <th>condition_code</th>\n",
       "      <td>-0.048933</td>\n",
       "      <td>0.014104</td>\n",
       "      <td>0.214992</td>\n",
       "      <td>0.021040</td>\n",
       "      <td>-0.000284</td>\n",
       "      <td>-0.092674</td>\n",
       "      <td>-0.025323</td>\n",
       "      <td>-0.001386</td>\n",
       "      <td>-0.347135</td>\n",
       "      <td>1.000000</td>\n",
       "      <td>-0.271404</td>\n",
       "      <td>0.265244</td>\n",
       "      <td>-0.072022</td>\n",
       "      <td>-0.128931</td>\n",
       "      <td>-0.086002</td>\n",
       "    </tr>\n",
       "    <tr>\n",
       "      <th>n_obs_used</th>\n",
       "      <td>-0.072904</td>\n",
       "      <td>-0.074730</td>\n",
       "      <td>-0.222990</td>\n",
       "      <td>-0.022798</td>\n",
       "      <td>0.011818</td>\n",
       "      <td>-0.078196</td>\n",
       "      <td>-0.056808</td>\n",
       "      <td>-0.007959</td>\n",
       "      <td>0.754573</td>\n",
       "      <td>-0.271404</td>\n",
       "      <td>1.000000</td>\n",
       "      <td>-0.779549</td>\n",
       "      <td>0.361396</td>\n",
       "      <td>0.452280</td>\n",
       "      <td>-0.085098</td>\n",
       "    </tr>\n",
       "    <tr>\n",
       "      <th>H</th>\n",
       "      <td>-0.288149</td>\n",
       "      <td>0.192213</td>\n",
       "      <td>-0.034802</td>\n",
       "      <td>0.000549</td>\n",
       "      <td>-0.005311</td>\n",
       "      <td>-0.382174</td>\n",
       "      <td>-0.194477</td>\n",
       "      <td>-0.031552</td>\n",
       "      <td>-0.670499</td>\n",
       "      <td>0.265244</td>\n",
       "      <td>-0.779549</td>\n",
       "      <td>1.000000</td>\n",
       "      <td>-0.564493</td>\n",
       "      <td>-0.249249</td>\n",
       "      <td>-0.379169</td>\n",
       "    </tr>\n",
       "    <tr>\n",
       "      <th>diameter</th>\n",
       "      <td>0.214047</td>\n",
       "      <td>-0.048444</td>\n",
       "      <td>0.053810</td>\n",
       "      <td>0.006179</td>\n",
       "      <td>0.003034</td>\n",
       "      <td>0.303424</td>\n",
       "      <td>0.179997</td>\n",
       "      <td>0.046439</td>\n",
       "      <td>0.492093</td>\n",
       "      <td>-0.072022</td>\n",
       "      <td>0.361396</td>\n",
       "      <td>-0.564493</td>\n",
       "      <td>1.000000</td>\n",
       "      <td>-0.103393</td>\n",
       "      <td>0.349714</td>\n",
       "    </tr>\n",
       "    <tr>\n",
       "      <th>albedo</th>\n",
       "      <td>-0.163815</td>\n",
       "      <td>-0.023311</td>\n",
       "      <td>-0.088504</td>\n",
       "      <td>-0.002570</td>\n",
       "      <td>-0.000973</td>\n",
       "      <td>-0.257956</td>\n",
       "      <td>-0.102833</td>\n",
       "      <td>-0.013841</td>\n",
       "      <td>0.251847</td>\n",
       "      <td>-0.128931</td>\n",
       "      <td>0.452280</td>\n",
       "      <td>-0.249249</td>\n",
       "      <td>-0.103393</td>\n",
       "      <td>1.000000</td>\n",
       "      <td>-0.250477</td>\n",
       "    </tr>\n",
       "    <tr>\n",
       "      <th>moid</th>\n",
       "      <td>0.487896</td>\n",
       "      <td>-0.479370</td>\n",
       "      <td>0.120018</td>\n",
       "      <td>-0.005860</td>\n",
       "      <td>-0.012721</td>\n",
       "      <td>0.996636</td>\n",
       "      <td>0.319223</td>\n",
       "      <td>0.081941</td>\n",
       "      <td>-0.023014</td>\n",
       "      <td>-0.086002</td>\n",
       "      <td>-0.085098</td>\n",
       "      <td>-0.379169</td>\n",
       "      <td>0.349714</td>\n",
       "      <td>-0.250477</td>\n",
       "      <td>1.000000</td>\n",
       "    </tr>\n",
       "  </tbody>\n",
       "</table>\n",
       "</div>"
      ],
      "text/plain": [
       "                       a         e         i        om         w         q  \\\n",
       "a               1.000000 -0.056278  0.198148  0.002750 -0.005453  0.507797   \n",
       "e              -0.056278  1.000000  0.148635  0.003936  0.009946 -0.513895   \n",
       "i               0.198148  0.148635  1.000000 -0.005745 -0.008885  0.079673   \n",
       "om              0.002750  0.003936 -0.005745  1.000000 -0.110399 -0.001548   \n",
       "w              -0.005453  0.009946 -0.008885 -0.110399  1.000000 -0.006456   \n",
       "q               0.507797 -0.513895  0.079673 -0.001548 -0.006456  1.000000   \n",
       "ad              0.970148  0.208528  0.193270  0.004001 -0.003088  0.281784   \n",
       "per_y           0.913352  0.053648  0.110458 -0.001674  0.000494  0.081784   \n",
       "data_arc       -0.028532 -0.024669 -0.206575  0.006322 -0.005808 -0.021277   \n",
       "condition_code -0.048933  0.014104  0.214992  0.021040 -0.000284 -0.092674   \n",
       "n_obs_used     -0.072904 -0.074730 -0.222990 -0.022798  0.011818 -0.078196   \n",
       "H              -0.288149  0.192213 -0.034802  0.000549 -0.005311 -0.382174   \n",
       "diameter        0.214047 -0.048444  0.053810  0.006179  0.003034  0.303424   \n",
       "albedo         -0.163815 -0.023311 -0.088504 -0.002570 -0.000973 -0.257956   \n",
       "moid            0.487896 -0.479370  0.120018 -0.005860 -0.012721  0.996636   \n",
       "\n",
       "                      ad     per_y  data_arc  condition_code  n_obs_used  \\\n",
       "a               0.970148  0.913352 -0.028532       -0.048933   -0.072904   \n",
       "e               0.208528  0.053648 -0.024669        0.014104   -0.074730   \n",
       "i               0.193270  0.110458 -0.206575        0.214992   -0.222990   \n",
       "om              0.004001 -0.001674  0.006322        0.021040   -0.022798   \n",
       "w              -0.003088  0.000494 -0.005808       -0.000284    0.011818   \n",
       "q               0.281784  0.081784 -0.021277       -0.092674   -0.078196   \n",
       "ad              1.000000  0.924721 -0.022021       -0.025323   -0.056808   \n",
       "per_y           0.924721  1.000000 -0.008907       -0.001386   -0.007959   \n",
       "data_arc       -0.022021 -0.008907  1.000000       -0.347135    0.754573   \n",
       "condition_code -0.025323 -0.001386 -0.347135        1.000000   -0.271404   \n",
       "n_obs_used     -0.056808 -0.007959  0.754573       -0.271404    1.000000   \n",
       "H              -0.194477 -0.031552 -0.670499        0.265244   -0.779549   \n",
       "diameter        0.179997  0.046439  0.492093       -0.072022    0.361396   \n",
       "albedo         -0.102833 -0.013841  0.251847       -0.128931    0.452280   \n",
       "moid            0.319223  0.081941 -0.023014       -0.086002   -0.085098   \n",
       "\n",
       "                       H  diameter    albedo      moid  \n",
       "a              -0.288149  0.214047 -0.163815  0.487896  \n",
       "e               0.192213 -0.048444 -0.023311 -0.479370  \n",
       "i              -0.034802  0.053810 -0.088504  0.120018  \n",
       "om              0.000549  0.006179 -0.002570 -0.005860  \n",
       "w              -0.005311  0.003034 -0.000973 -0.012721  \n",
       "q              -0.382174  0.303424 -0.257956  0.996636  \n",
       "ad             -0.194477  0.179997 -0.102833  0.319223  \n",
       "per_y          -0.031552  0.046439 -0.013841  0.081941  \n",
       "data_arc       -0.670499  0.492093  0.251847 -0.023014  \n",
       "condition_code  0.265244 -0.072022 -0.128931 -0.086002  \n",
       "n_obs_used     -0.779549  0.361396  0.452280 -0.085098  \n",
       "H               1.000000 -0.564493 -0.249249 -0.379169  \n",
       "diameter       -0.564493  1.000000 -0.103393  0.349714  \n",
       "albedo         -0.249249 -0.103393  1.000000 -0.250477  \n",
       "moid           -0.379169  0.349714 -0.250477  1.000000  "
      ]
     },
     "execution_count": 16,
     "metadata": {},
     "output_type": "execute_result"
    }
   ],
   "source": [
    "\n",
    "df_train.drop(columns = to_remove).corr()"
   ]
  },
  {
   "cell_type": "code",
   "execution_count": 14,
   "metadata": {},
   "outputs": [
    {
     "data": {
      "image/png": "[encoded data removed]",
      "text/plain": [
       "<Figure size 640x480 with 2 Axes>"
      ]
     },
     "metadata": {},
     "output_type": "display_data"
    }
   ],
   "source": [
    "sns.heatmap(df_train.drop(columns = to_remove).corr());"
   ]
  },
  {
   "cell_type": "code",
   "execution_count": 15,
   "metadata": {},
   "outputs": [
    {
     "data": {
      "text/plain": [
       "diameter          1.000000\n",
       "data_arc          0.492093\n",
       "n_obs_used        0.361396\n",
       "moid              0.349714\n",
       "q                 0.303424\n",
       "a                 0.214047\n",
       "ad                0.179997\n",
       "i                 0.053810\n",
       "per_y             0.046439\n",
       "om                0.006179\n",
       "w                 0.003034\n",
       "e                -0.048444\n",
       "condition_code   -0.072022\n",
       "albedo           -0.103393\n",
       "H                -0.564493\n",
       "dtype: float64"
      ]
     },
     "execution_count": 15,
     "metadata": {},
     "output_type": "execute_result"
    }
   ],
   "source": [
    "df_train.drop(columns = to_remove).corrwith(df_train.diameter).sort_values(ascending=False)"
   ]
  },
  {
   "cell_type": "code",
   "execution_count": 16,
   "metadata": {},
   "outputs": [],
   "source": [
    "remove_corr = [\"a\", \"per_y\"]\n",
    "remove_corr_2 = [\"i\",\"per_y\",\"om\",\"w\",\"e\",\"condition_code\"]"
   ]
  },
  {
   "cell_type": "code",
   "execution_count": 17,
   "metadata": {},
   "outputs": [
    {
     "data": {
      "text/plain": [
       "count    100000.000000\n",
       "mean          5.476452\n",
       "std           9.536302\n",
       "min           0.008000\n",
       "1%            1.251000\n",
       "5%            1.700000\n",
       "10%           2.023000\n",
       "25%           2.771000\n",
       "50%           3.960000\n",
       "75%           5.747000\n",
       "90%           8.608000\n",
       "95%          12.059000\n",
       "99%          31.358200\n",
       "max         939.400000\n",
       "Name: diameter, dtype: float64"
      ]
     },
     "execution_count": 17,
     "metadata": {},
     "output_type": "execute_result"
    }
   ],
   "source": [
    "df_train.diameter.describe(percentiles=[0.01, 0.05, 0.1, 0.25, 0.5, 0.75, 0.9, 0.95, 0.99])"
   ]
  },
  {
   "cell_type": "code",
   "execution_count": 18,
   "metadata": {},
   "outputs": [
    {
     "data": {
      "text/plain": [
       "(-0.931, 93.947]      99800\n",
       "(93.947, 187.886]       169\n",
       "(187.886, 281.826]       24\n",
       "(281.826, 375.765]        3\n",
       "(845.461, 939.4]          2\n",
       "(375.765, 469.704]        1\n",
       "(469.704, 563.643]        1\n",
       "(563.643, 657.582]        0\n",
       "(657.582, 751.522]        0\n",
       "(751.522, 845.461]        0\n",
       "Name: diameter, dtype: int64"
      ]
     },
     "execution_count": 18,
     "metadata": {},
     "output_type": "execute_result"
    }
   ],
   "source": [
    "pd.cut(df_train.diameter, 10).value_counts()"
   ]
  },
  {
   "cell_type": "markdown",
   "metadata": {},
   "source": [
    "## Modelo Baseline"
   ]
  },
  {
   "cell_type": "code",
   "execution_count": 19,
   "metadata": {},
   "outputs": [],
   "source": [
    "from sklearn.neighbors import KNeighborsRegressor\n",
    "from sklearn.pipeline import Pipeline\n",
    "from feature_engine.imputation import MeanMedianImputer\n",
    "from feature_engine.encoding import OneHotEncoder, OrdinalEncoder\n",
    "from feature_engine.imputation import CategoricalImputer\n",
    "from sklearn.preprocessing import StandardScaler\n",
    "from sklearn.metrics import mean_squared_error\n",
    "from sklearn.model_selection import cross_val_score, KFold\n",
    "from sklearn.compose import TransformedTargetRegressor"
   ]
  },
  {
   "cell_type": "code",
   "execution_count": 20,
   "metadata": {},
   "outputs": [
    {
     "name": "stdout",
     "output_type": "stream",
     "text": [
      "(100000, 16) (37681, 16)\n",
      "Fold 1\n",
      "MSE for fold 1: 20.171484994853998\n",
      "Fold 2\n",
      "MSE for fold 2: 23.789751738009997\n",
      "Fold 3\n",
      "MSE for fold 3: 79.36121907721399\n",
      "Fold 4\n",
      "MSE for fold 4: 32.08829896388999\n",
      "Fold 5\n",
      "MSE for fold 5: 20.801151037593993\n"
     ]
    },
    {
     "data": {
      "text/plain": [
       "35.24238116231239"
      ]
     },
     "execution_count": 20,
     "metadata": {},
     "output_type": "execute_result"
    }
   ],
   "source": [
    "kf = KFold(n_splits=5, shuffle=True, random_state=42)\n",
    "\n",
    "X_train = df_train.drop(columns = to_remove+[\"full_name\",\"diameter\"])\n",
    "X_test = df_test.drop(columns = to_remove+[\"full_name\"])\n",
    "\n",
    "y_train = df_train.diameter\n",
    "\n",
    "print(X_train.shape, X_test.shape)\n",
    "\n",
    "score = []\n",
    "for fold, (train_idx, val_idx) in enumerate(kf.split(X_train, y_train), start=1):\n",
    "    print(f\"Fold {fold}\")\n",
    "    X_train_fold = X_train.iloc[train_idx]\n",
    "    y_train_fold = y_train.iloc[train_idx]\n",
    "    X_val_fold = X_train.iloc[val_idx]\n",
    "    y_val_fold = y_train.iloc[val_idx]\n",
    "    \n",
    "    pipe = Pipeline(steps=[\n",
    "    (\"cat_imp\", CategoricalImputer(imputation_method=\"frequent\")),\n",
    "    (\"num_imp\", MeanMedianImputer(imputation_method=\"mean\")),\n",
    "    (\"one_hot\", OneHotEncoder()),\n",
    "    (\"scaler\", StandardScaler()),\n",
    "    # (\"knn\", TransformedTargetRegressor(KNeighborsRegressor(n_neighbors=5), func=np.log, inverse_func=np.exp))\n",
    "    (\"knn\", KNeighborsRegressor(n_neighbors=5))\n",
    "    ]\n",
    "    )\n",
    "\n",
    "    pipe.fit(X_train_fold, y_train_fold)\n",
    "    y_pred = pipe.predict(X_val_fold)\n",
    "    # y_pred = model.predict(X_val_fold)\n",
    "    mse = mean_squared_error(y_pred, y_val_fold)\n",
    "    print(f\"MSE for fold {fold}: {mse}\")\n",
    "    score.append(mse)\n",
    "\n",
    "np.mean(score)"
   ]
  },
  {
   "cell_type": "code",
   "execution_count": 21,
   "metadata": {},
   "outputs": [
    {
     "data": {
      "text/plain": [
       "35.24238116231239"
      ]
     },
     "execution_count": 21,
     "metadata": {},
     "output_type": "execute_result"
    }
   ],
   "source": [
    "pipe = Pipeline(steps=[\n",
    "(\"cat_imp\", CategoricalImputer(imputation_method=\"frequent\")),\n",
    "(\"num_imp\", MeanMedianImputer(imputation_method=\"mean\")),\n",
    "(\"one_hot\", OneHotEncoder()),\n",
    "(\"scaler\", StandardScaler()),\n",
    "# (\"knn\", TransformedTargetRegressor(KNeighborsRegressor(n_neighbors=5), func=np.log, inverse_func=np.exp))\n",
    "(\"knn\", KNeighborsRegressor(n_neighbors=5))\n",
    "]\n",
    ")\n",
    "\n",
    "-cross_val_score(pipe, X_train, y_train, cv=KFold(n_splits=5, shuffle=True, random_state=42), scoring=\"neg_mean_squared_error\").mean()"
   ]
  },
  {
   "cell_type": "code",
   "execution_count": 22,
   "metadata": {},
   "outputs": [
    {
     "data": {
      "text/plain": [
       "33.7098232306868"
      ]
     },
     "execution_count": 22,
     "metadata": {},
     "output_type": "execute_result"
    }
   ],
   "source": [
    "X_train = df_train.drop(columns = to_remove+[\"full_name\",\"diameter\"]+remove_corr_2)\n",
    "X_test = df_test.drop(columns = to_remove+[\"full_name\"]+remove_corr_2)\n",
    "\n",
    "y_train = df_train.diameter\n",
    "\n",
    "pipe = Pipeline(steps=[\n",
    "(\"cat_imp\", CategoricalImputer(imputation_method=\"frequent\")),\n",
    "(\"num_imp\", MeanMedianImputer(imputation_method=\"mean\")),\n",
    "(\"one_hot\", OneHotEncoder()),\n",
    "(\"scaler\", StandardScaler()),\n",
    "# (\"knn\", TransformedTargetRegressor(KNeighborsRegressor(n_neighbors=5), func=np.log, inverse_func=np.exp))\n",
    "(\"knn\", KNeighborsRegressor(n_neighbors=5))\n",
    "]\n",
    ")\n",
    "\n",
    "-cross_val_score(pipe, X_train, y_train, cv=KFold(n_splits=5, shuffle=True, random_state=42), scoring=\"neg_mean_squared_error\").mean()\n",
    "\n"
   ]
  },
  {
   "cell_type": "code",
   "execution_count": 24,
   "metadata": {},
   "outputs": [
    {
     "data": {
      "text/plain": [
       "7.907530116454119"
      ]
     },
     "execution_count": 24,
     "metadata": {},
     "output_type": "execute_result"
    }
   ],
   "source": [
    "X_train = df_train.drop(columns = to_remove+[\"full_name\",\"diameter\"]+remove_corr_2)\n",
    "X_test = df_test.drop(columns = to_remove+[\"full_name\"]+remove_corr_2)\n",
    "y_train = df_train.diameter\n",
    "\n",
    "idx = y_train > 90\n",
    "\n",
    "X_train = X_train.loc[~idx]\n",
    "y_train = y_train.loc[~idx]\n",
    "\n",
    "X_train.shape, y_train.shape\n",
    "\n",
    "pipe = Pipeline(steps=[\n",
    "(\"cat_imp\", CategoricalImputer(imputation_method=\"frequent\")),\n",
    "(\"num_imp\", MeanMedianImputer(imputation_method=\"mean\")),\n",
    "(\"one_hot\", OneHotEncoder()),\n",
    "(\"scaler\", StandardScaler()),\n",
    "# (\"knn\", TransformedTargetRegressor(KNeighborsRegressor(n_neighbors=5), func=np.log, inverse_func=np.exp))\n",
    "(\"knn\", KNeighborsRegressor(n_neighbors=5))\n",
    "]\n",
    ")\n",
    "\n",
    "-cross_val_score(pipe, X_train, y_train, cv=KFold(n_splits=5, shuffle=True, random_state=42), scoring=\"neg_mean_squared_error\").mean()\n"
   ]
  },
  {
   "cell_type": "code",
   "execution_count": 26,
   "metadata": {},
   "outputs": [
    {
     "data": {
      "text/html": [
       "<div>\n",
       "<style scoped>\n",
       "    .dataframe tbody tr th:only-of-type {\n",
       "        vertical-align: middle;\n",
       "    }\n",
       "\n",
       "    .dataframe tbody tr th {\n",
       "        vertical-align: top;\n",
       "    }\n",
       "\n",
       "    .dataframe thead th {\n",
       "        text-align: right;\n",
       "    }\n",
       "</style>\n",
       "<table border=\"1\" class=\"dataframe\">\n",
       "  <thead>\n",
       "    <tr style=\"text-align: right;\">\n",
       "      <th></th>\n",
       "      <th>a</th>\n",
       "      <th>q</th>\n",
       "      <th>ad</th>\n",
       "      <th>data_arc</th>\n",
       "      <th>n_obs_used</th>\n",
       "      <th>H</th>\n",
       "      <th>albedo</th>\n",
       "      <th>neo</th>\n",
       "      <th>pha</th>\n",
       "      <th>moid</th>\n",
       "    </tr>\n",
       "    <tr>\n",
       "      <th>index</th>\n",
       "      <th></th>\n",
       "      <th></th>\n",
       "      <th></th>\n",
       "      <th></th>\n",
       "      <th></th>\n",
       "      <th></th>\n",
       "      <th></th>\n",
       "      <th></th>\n",
       "      <th></th>\n",
       "      <th></th>\n",
       "    </tr>\n",
       "  </thead>\n",
       "  <tbody>\n",
       "    <tr>\n",
       "      <th>16</th>\n",
       "      <td>2.470354</td>\n",
       "      <td>2.141719</td>\n",
       "      <td>2.798989</td>\n",
       "      <td>61117.0</td>\n",
       "      <td>NaN</td>\n",
       "      <td>7.76</td>\n",
       "      <td>0.1930</td>\n",
       "      <td>N</td>\n",
       "      <td>N</td>\n",
       "      <td>1.129810</td>\n",
       "    </tr>\n",
       "    <tr>\n",
       "      <th>31</th>\n",
       "      <td>NaN</td>\n",
       "      <td>2.379094</td>\n",
       "      <td>NaN</td>\n",
       "      <td>NaN</td>\n",
       "      <td>2133.0</td>\n",
       "      <td>7.56</td>\n",
       "      <td>0.2564</td>\n",
       "      <td>N</td>\n",
       "      <td>N</td>\n",
       "      <td>1.377040</td>\n",
       "    </tr>\n",
       "    <tr>\n",
       "      <th>32</th>\n",
       "      <td>2.873456</td>\n",
       "      <td>1.921347</td>\n",
       "      <td>NaN</td>\n",
       "      <td>59639.0</td>\n",
       "      <td>NaN</td>\n",
       "      <td>8.55</td>\n",
       "      <td>NaN</td>\n",
       "      <td>N</td>\n",
       "      <td>N</td>\n",
       "      <td>0.913808</td>\n",
       "    </tr>\n",
       "    <tr>\n",
       "      <th>42</th>\n",
       "      <td>2.203475</td>\n",
       "      <td>1.832582</td>\n",
       "      <td>NaN</td>\n",
       "      <td>56486.0</td>\n",
       "      <td>2495.0</td>\n",
       "      <td>7.93</td>\n",
       "      <td>NaN</td>\n",
       "      <td>N</td>\n",
       "      <td>N</td>\n",
       "      <td>0.815860</td>\n",
       "    </tr>\n",
       "    <tr>\n",
       "      <th>49</th>\n",
       "      <td>2.648794</td>\n",
       "      <td>1.891277</td>\n",
       "      <td>3.406311</td>\n",
       "      <td>59008.0</td>\n",
       "      <td>2896.0</td>\n",
       "      <td>9.24</td>\n",
       "      <td>NaN</td>\n",
       "      <td>N</td>\n",
       "      <td>N</td>\n",
       "      <td>NaN</td>\n",
       "    </tr>\n",
       "    <tr>\n",
       "      <th>...</th>\n",
       "      <td>...</td>\n",
       "      <td>...</td>\n",
       "      <td>...</td>\n",
       "      <td>...</td>\n",
       "      <td>...</td>\n",
       "      <td>...</td>\n",
       "      <td>...</td>\n",
       "      <td>...</td>\n",
       "      <td>...</td>\n",
       "      <td>...</td>\n",
       "    </tr>\n",
       "    <tr>\n",
       "      <th>797841</th>\n",
       "      <td>3.158981</td>\n",
       "      <td>2.162046</td>\n",
       "      <td>4.155917</td>\n",
       "      <td>6294.0</td>\n",
       "      <td>95.0</td>\n",
       "      <td>NaN</td>\n",
       "      <td>NaN</td>\n",
       "      <td>N</td>\n",
       "      <td>N</td>\n",
       "      <td>1.280800</td>\n",
       "    </tr>\n",
       "    <tr>\n",
       "      <th>797871</th>\n",
       "      <td>3.155975</td>\n",
       "      <td>NaN</td>\n",
       "      <td>NaN</td>\n",
       "      <td>2250.0</td>\n",
       "      <td>47.0</td>\n",
       "      <td>18.20</td>\n",
       "      <td>0.1160</td>\n",
       "      <td>N</td>\n",
       "      <td>N</td>\n",
       "      <td>0.854315</td>\n",
       "    </tr>\n",
       "    <tr>\n",
       "      <th>797896</th>\n",
       "      <td>NaN</td>\n",
       "      <td>NaN</td>\n",
       "      <td>NaN</td>\n",
       "      <td>NaN</td>\n",
       "      <td>NaN</td>\n",
       "      <td>NaN</td>\n",
       "      <td>NaN</td>\n",
       "      <td>N</td>\n",
       "      <td>N</td>\n",
       "      <td>1.663010</td>\n",
       "    </tr>\n",
       "    <tr>\n",
       "      <th>798225</th>\n",
       "      <td>3.146246</td>\n",
       "      <td>2.452313</td>\n",
       "      <td>NaN</td>\n",
       "      <td>NaN</td>\n",
       "      <td>NaN</td>\n",
       "      <td>16.80</td>\n",
       "      <td>NaN</td>\n",
       "      <td>N</td>\n",
       "      <td>N</td>\n",
       "      <td>1.438370</td>\n",
       "    </tr>\n",
       "    <tr>\n",
       "      <th>799788</th>\n",
       "      <td>NaN</td>\n",
       "      <td>2.174231</td>\n",
       "      <td>3.928440</td>\n",
       "      <td>2208.0</td>\n",
       "      <td>NaN</td>\n",
       "      <td>17.20</td>\n",
       "      <td>0.0720</td>\n",
       "      <td>N</td>\n",
       "      <td>N</td>\n",
       "      <td>NaN</td>\n",
       "    </tr>\n",
       "  </tbody>\n",
       "</table>\n",
       "<p>99786 rows × 10 columns</p>\n",
       "</div>"
      ],
      "text/plain": [
       "               a         q        ad  data_arc  n_obs_used      H  albedo neo  \\\n",
       "index                                                                           \n",
       "16      2.470354  2.141719  2.798989   61117.0         NaN   7.76  0.1930   N   \n",
       "31           NaN  2.379094       NaN       NaN      2133.0   7.56  0.2564   N   \n",
       "32      2.873456  1.921347       NaN   59639.0         NaN   8.55     NaN   N   \n",
       "42      2.203475  1.832582       NaN   56486.0      2495.0   7.93     NaN   N   \n",
       "49      2.648794  1.891277  3.406311   59008.0      2896.0   9.24     NaN   N   \n",
       "...          ...       ...       ...       ...         ...    ...     ...  ..   \n",
       "797841  3.158981  2.162046  4.155917    6294.0        95.0    NaN     NaN   N   \n",
       "797871  3.155975       NaN       NaN    2250.0        47.0  18.20  0.1160   N   \n",
       "797896       NaN       NaN       NaN       NaN         NaN    NaN     NaN   N   \n",
       "798225  3.146246  2.452313       NaN       NaN         NaN  16.80     NaN   N   \n",
       "799788       NaN  2.174231  3.928440    2208.0         NaN  17.20  0.0720   N   \n",
       "\n",
       "       pha      moid  \n",
       "index                 \n",
       "16       N  1.129810  \n",
       "31       N  1.377040  \n",
       "32       N  0.913808  \n",
       "42       N  0.815860  \n",
       "49       N       NaN  \n",
       "...     ..       ...  \n",
       "797841   N  1.280800  \n",
       "797871   N  0.854315  \n",
       "797896   N  1.663010  \n",
       "798225   N  1.438370  \n",
       "799788   N       NaN  \n",
       "\n",
       "[99786 rows x 10 columns]"
      ]
     },
     "execution_count": 26,
     "metadata": {},
     "output_type": "execute_result"
    }
   ],
   "source": [
    "\n",
    "\n",
    "X_train"
   ]
  },
  {
   "cell_type": "code",
   "execution_count": 50,
   "metadata": {},
   "outputs": [
    {
     "data": {
      "text/plain": [
       "8.847558791285422"
      ]
     },
     "execution_count": 50,
     "metadata": {},
     "output_type": "execute_result"
    }
   ],
   "source": [
    "X_train = df_train.drop(columns = to_remove+[\"full_name\",\"diameter\"]+remove_corr)\n",
    "X_test = df_test.drop(columns = to_remove+[\"full_name\"]+remove_corr)\n",
    "y_train = df_train.diameter\n",
    "\n",
    "idx = y_train > 90\n",
    "\n",
    "X_train = X_train.loc[~idx]\n",
    "y_train = y_train.loc[~idx]\n",
    "\n",
    "X_train.shape, y_train.shape\n",
    "\n",
    "pipe = Pipeline(steps=[\n",
    "(\"cat_imp\", CategoricalImputer(imputation_method=\"frequent\")),\n",
    "(\"num_imp\", MeanMedianImputer(imputation_method=\"mean\")),\n",
    "(\"one_hot\", OneHotEncoder()),\n",
    "(\"scaler\", StandardScaler()),\n",
    "# (\"knn\", TransformedTargetRegressor(KNeighborsRegressor(n_neighbors=5), func=np.log, inverse_func=np.exp))\n",
    "(\"knn\", KNeighborsRegressor(n_neighbors=5))\n",
    "]\n",
    ")\n",
    "\n",
    "-cross_val_score(pipe, X_train, y_train, cv=KFold(n_splits=5, shuffle=True, random_state=42), scoring=\"neg_mean_squared_error\").mean()\n"
   ]
  },
  {
   "cell_type": "code",
   "execution_count": null,
   "metadata": {},
   "outputs": [],
   "source": []
  }
 ],
 "metadata": {
  "kernelspec": {
   "display_name": "Python 3.9.12 ('base')",
   "language": "python",
   "name": "python3"
  },
  "language_info": {
   "codemirror_mode": {
    "name": "ipython",
    "version": 3
   },
   "file_extension": ".py",
   "mimetype": "text/x-python",
   "name": "python",
   "nbconvert_exporter": "python",
   "pygments_lexer": "ipython3",
   "version": "3.9.12"
  },
  "orig_nbformat": 4,
  "vscode": {
   "interpreter": {
    "hash": "64552dec38dc00846c0470cc47112afcd844759a0812a214ef98e699b0a74752"
   }
  }
 },
 "nbformat": 4,
 "nbformat_minor": 2
}
